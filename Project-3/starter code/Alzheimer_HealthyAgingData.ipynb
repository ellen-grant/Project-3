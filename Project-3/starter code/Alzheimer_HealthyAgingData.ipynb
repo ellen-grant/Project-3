{
 "cells": [
  {
   "cell_type": "code",
<<<<<<< HEAD:Project-3/starter code/Alzheimer_HealthyAgingData.ipynb
   "execution_count": null,
   "metadata": {},
   "outputs": [],
   "source": []
  },
  {
   "cell_type": "code",
<<<<<<< HEAD
<<<<<<< HEAD
   "execution_count": 1,
=======
   "execution_count": 203,
>>>>>>> 8983b2b5fff96ebc161d4ce459d33a131b93afb5:Alzheimer_HealthyAgingData.ipynb
=======
   "execution_count": 42,
>>>>>>> parent of c51138a (updates to starter code)
=======
   "execution_count": 42,
>>>>>>> parent of c51138a (updates to starter code)
   "metadata": {},
   "outputs": [],
   "source": [
    "import pandas as pd\n",
    "from pathlib import Path"
   ]
  },
  {
   "cell_type": "code",
<<<<<<< HEAD
<<<<<<< HEAD
<<<<<<< HEAD:Project-3/starter code/Alzheimer_HealthyAgingData.ipynb
   "execution_count": 2,
=======
   "execution_count": 208,
>>>>>>> 8983b2b5fff96ebc161d4ce459d33a131b93afb5:Alzheimer_HealthyAgingData.ipynb
=======
   "execution_count": 43,
>>>>>>> parent of c51138a (updates to starter code)
=======
   "execution_count": 43,
>>>>>>> parent of c51138a (updates to starter code)
   "metadata": {},
   "outputs": [
    {
     "data": {
      "text/html": [
       "<div>\n",
       "<style scoped>\n",
       "    .dataframe tbody tr th:only-of-type {\n",
       "        vertical-align: middle;\n",
       "    }\n",
       "\n",
       "    .dataframe tbody tr th {\n",
       "        vertical-align: top;\n",
       "    }\n",
       "\n",
       "    .dataframe thead th {\n",
       "        text-align: right;\n",
       "    }\n",
       "</style>\n",
       "<table border=\"1\" class=\"dataframe\">\n",
       "  <thead>\n",
       "    <tr style=\"text-align: right;\">\n",
       "      <th></th>\n",
       "      <th>RowId</th>\n",
       "      <th>YearStart</th>\n",
       "      <th>YearEnd</th>\n",
       "      <th>LocationAbbr</th>\n",
       "      <th>LocationDesc</th>\n",
       "      <th>Datasource</th>\n",
       "      <th>Class</th>\n",
       "      <th>Topic</th>\n",
       "      <th>Question</th>\n",
       "      <th>Data_Value_Unit</th>\n",
       "      <th>...</th>\n",
       "      <th>Stratification2</th>\n",
       "      <th>Geolocation</th>\n",
       "      <th>ClassID</th>\n",
       "      <th>TopicID</th>\n",
       "      <th>QuestionID</th>\n",
       "      <th>LocationID</th>\n",
       "      <th>StratificationCategoryID1</th>\n",
       "      <th>StratificationID1</th>\n",
       "      <th>StratificationCategoryID2</th>\n",
       "      <th>StratificationID2</th>\n",
       "    </tr>\n",
       "  </thead>\n",
       "  <tbody>\n",
       "    <tr>\n",
       "      <th>0</th>\n",
       "      <td>BRFSS~2022~2022~42~Q03~TMC01~AGE~RACE</td>\n",
       "      <td>2022</td>\n",
       "      <td>2022</td>\n",
       "      <td>PA</td>\n",
       "      <td>Pennsylvania</td>\n",
       "      <td>BRFSS</td>\n",
       "      <td>Mental Health</td>\n",
       "      <td>Frequent mental distress</td>\n",
       "      <td>Percentage of older adults who are experiencin...</td>\n",
       "      <td>%</td>\n",
       "      <td>...</td>\n",
       "      <td>Native Am/Alaskan Native</td>\n",
       "      <td>POINT (-77.86070029 40.79373015)</td>\n",
       "      <td>C05</td>\n",
       "      <td>TMC01</td>\n",
       "      <td>Q03</td>\n",
       "      <td>42</td>\n",
       "      <td>AGE</td>\n",
       "      <td>5064</td>\n",
       "      <td>RACE</td>\n",
       "      <td>NAA</td>\n",
       "    </tr>\n",
       "    <tr>\n",
       "      <th>1</th>\n",
       "      <td>BRFSS~2022~2022~46~Q03~TMC01~AGE~RACE</td>\n",
       "      <td>2022</td>\n",
       "      <td>2022</td>\n",
       "      <td>SD</td>\n",
       "      <td>South Dakota</td>\n",
       "      <td>BRFSS</td>\n",
       "      <td>Mental Health</td>\n",
       "      <td>Frequent mental distress</td>\n",
       "      <td>Percentage of older adults who are experiencin...</td>\n",
       "      <td>%</td>\n",
       "      <td>...</td>\n",
       "      <td>Asian/Pacific Islander</td>\n",
       "      <td>POINT (-100.3735306 44.35313005)</td>\n",
       "      <td>C05</td>\n",
       "      <td>TMC01</td>\n",
       "      <td>Q03</td>\n",
       "      <td>46</td>\n",
       "      <td>AGE</td>\n",
       "      <td>65PLUS</td>\n",
       "      <td>RACE</td>\n",
       "      <td>ASN</td>\n",
       "    </tr>\n",
       "    <tr>\n",
       "      <th>2</th>\n",
       "      <td>BRFSS~2022~2022~16~Q03~TMC01~AGE~RACE</td>\n",
       "      <td>2022</td>\n",
       "      <td>2022</td>\n",
       "      <td>ID</td>\n",
       "      <td>Idaho</td>\n",
       "      <td>BRFSS</td>\n",
       "      <td>Mental Health</td>\n",
       "      <td>Frequent mental distress</td>\n",
       "      <td>Percentage of older adults who are experiencin...</td>\n",
       "      <td>%</td>\n",
       "      <td>...</td>\n",
       "      <td>Black, non-Hispanic</td>\n",
       "      <td>POINT (-114.36373 43.68263001)</td>\n",
       "      <td>C05</td>\n",
       "      <td>TMC01</td>\n",
       "      <td>Q03</td>\n",
       "      <td>16</td>\n",
       "      <td>AGE</td>\n",
       "      <td>65PLUS</td>\n",
       "      <td>RACE</td>\n",
       "      <td>BLK</td>\n",
       "    </tr>\n",
       "    <tr>\n",
       "      <th>3</th>\n",
       "      <td>BRFSS~2022~2022~24~Q03~TMC01~AGE~RACE</td>\n",
       "      <td>2022</td>\n",
       "      <td>2022</td>\n",
       "      <td>MD</td>\n",
       "      <td>Maryland</td>\n",
       "      <td>BRFSS</td>\n",
       "      <td>Mental Health</td>\n",
       "      <td>Frequent mental distress</td>\n",
       "      <td>Percentage of older adults who are experiencin...</td>\n",
       "      <td>%</td>\n",
       "      <td>...</td>\n",
       "      <td>Black, non-Hispanic</td>\n",
       "      <td>POINT (-76.60926011 39.29058096)</td>\n",
       "      <td>C05</td>\n",
       "      <td>TMC01</td>\n",
       "      <td>Q03</td>\n",
       "      <td>24</td>\n",
       "      <td>AGE</td>\n",
       "      <td>65PLUS</td>\n",
       "      <td>RACE</td>\n",
       "      <td>BLK</td>\n",
       "    </tr>\n",
       "    <tr>\n",
       "      <th>4</th>\n",
       "      <td>BRFSS~2022~2022~55~Q03~TMC01~AGE~GENDER</td>\n",
       "      <td>2022</td>\n",
       "      <td>2022</td>\n",
       "      <td>WI</td>\n",
       "      <td>Wisconsin</td>\n",
       "      <td>BRFSS</td>\n",
       "      <td>Mental Health</td>\n",
       "      <td>Frequent mental distress</td>\n",
       "      <td>Percentage of older adults who are experiencin...</td>\n",
       "      <td>%</td>\n",
       "      <td>...</td>\n",
       "      <td>Male</td>\n",
       "      <td>POINT (-89.81637074 44.39319117)</td>\n",
       "      <td>C05</td>\n",
       "      <td>TMC01</td>\n",
       "      <td>Q03</td>\n",
       "      <td>55</td>\n",
       "      <td>AGE</td>\n",
       "      <td>65PLUS</td>\n",
       "      <td>GENDER</td>\n",
       "      <td>MALE</td>\n",
       "    </tr>\n",
       "  </tbody>\n",
       "</table>\n",
       "<p>5 rows × 31 columns</p>\n",
       "</div>"
      ],
      "text/plain": [
       "                                     RowId  YearStart  YearEnd LocationAbbr  \\\n",
       "0    BRFSS~2022~2022~42~Q03~TMC01~AGE~RACE       2022     2022           PA   \n",
       "1    BRFSS~2022~2022~46~Q03~TMC01~AGE~RACE       2022     2022           SD   \n",
       "2    BRFSS~2022~2022~16~Q03~TMC01~AGE~RACE       2022     2022           ID   \n",
       "3    BRFSS~2022~2022~24~Q03~TMC01~AGE~RACE       2022     2022           MD   \n",
       "4  BRFSS~2022~2022~55~Q03~TMC01~AGE~GENDER       2022     2022           WI   \n",
       "\n",
       "   LocationDesc Datasource          Class                     Topic  \\\n",
       "0  Pennsylvania      BRFSS  Mental Health  Frequent mental distress   \n",
       "1  South Dakota      BRFSS  Mental Health  Frequent mental distress   \n",
       "2         Idaho      BRFSS  Mental Health  Frequent mental distress   \n",
       "3      Maryland      BRFSS  Mental Health  Frequent mental distress   \n",
       "4     Wisconsin      BRFSS  Mental Health  Frequent mental distress   \n",
       "\n",
       "                                            Question Data_Value_Unit  ...  \\\n",
       "0  Percentage of older adults who are experiencin...               %  ...   \n",
       "1  Percentage of older adults who are experiencin...               %  ...   \n",
       "2  Percentage of older adults who are experiencin...               %  ...   \n",
       "3  Percentage of older adults who are experiencin...               %  ...   \n",
       "4  Percentage of older adults who are experiencin...               %  ...   \n",
       "\n",
       "            Stratification2                       Geolocation  ClassID  \\\n",
       "0  Native Am/Alaskan Native  POINT (-77.86070029 40.79373015)      C05   \n",
       "1    Asian/Pacific Islander  POINT (-100.3735306 44.35313005)      C05   \n",
       "2       Black, non-Hispanic    POINT (-114.36373 43.68263001)      C05   \n",
       "3       Black, non-Hispanic  POINT (-76.60926011 39.29058096)      C05   \n",
       "4                      Male  POINT (-89.81637074 44.39319117)      C05   \n",
       "\n",
       "   TopicID QuestionID LocationID  StratificationCategoryID1  \\\n",
       "0    TMC01        Q03         42                        AGE   \n",
       "1    TMC01        Q03         46                        AGE   \n",
       "2    TMC01        Q03         16                        AGE   \n",
       "3    TMC01        Q03         24                        AGE   \n",
       "4    TMC01        Q03         55                        AGE   \n",
       "\n",
       "   StratificationID1 StratificationCategoryID2 StratificationID2  \n",
       "0               5064                      RACE               NAA  \n",
       "1             65PLUS                      RACE               ASN  \n",
       "2             65PLUS                      RACE               BLK  \n",
       "3             65PLUS                      RACE               BLK  \n",
       "4             65PLUS                    GENDER              MALE  \n",
       "\n",
       "[5 rows x 31 columns]"
      ]
     },
<<<<<<< HEAD
<<<<<<< HEAD
<<<<<<< HEAD:Project-3/starter code/Alzheimer_HealthyAgingData.ipynb
     "execution_count": 2,
=======
     "execution_count": 208,
>>>>>>> 8983b2b5fff96ebc161d4ce459d33a131b93afb5:Alzheimer_HealthyAgingData.ipynb
=======
     "execution_count": 43,
>>>>>>> parent of c51138a (updates to starter code)
=======
     "execution_count": 43,
>>>>>>> parent of c51138a (updates to starter code)
     "metadata": {},
     "output_type": "execute_result"
    }
   ],
   "source": [
    "# Specify the path to your CSV file\n",
<<<<<<< HEAD
<<<<<<< HEAD
<<<<<<< HEAD:Project-3/starter code/Alzheimer_HealthyAgingData.ipynb
    "file = '../Resources/Alzheimer_s_Disease_and_Healthy_Aging_Data.csv'\n",
=======
    "file = '/Users/sarahwhite/Desktop/workspace/project_3/Project-3/Resources/Alzheimer_s_Disease_and_Healthy_Aging_Data.csv'\n",
>>>>>>> 8983b2b5fff96ebc161d4ce459d33a131b93afb5:Alzheimer_HealthyAgingData.ipynb
=======
    "file = 'Resources/Alzheimer_s_Disease_and_Healthy_Aging_Data.csv'\n",
>>>>>>> parent of c51138a (updates to starter code)
=======
    "file = 'Resources/Alzheimer_s_Disease_and_Healthy_Aging_Data.csv'\n",
>>>>>>> parent of c51138a (updates to starter code)
    "\n",
    "# Read the CSV file into a DataFrame\n",
    "Alzheimers_data = pd.read_csv(file)\n",
    "\n",
    "Alzheimers_data.head()"
   ]
  },
  {
   "cell_type": "code",
<<<<<<< HEAD
<<<<<<< HEAD
<<<<<<< HEAD:Project-3/starter code/Alzheimer_HealthyAgingData.ipynb
   "execution_count": 3,
=======
   "execution_count": 209,
>>>>>>> 8983b2b5fff96ebc161d4ce459d33a131b93afb5:Alzheimer_HealthyAgingData.ipynb
=======
   "execution_count": 44,
>>>>>>> parent of c51138a (updates to starter code)
=======
   "execution_count": 44,
>>>>>>> parent of c51138a (updates to starter code)
   "metadata": {},
   "outputs": [
    {
     "name": "stdout",
     "output_type": "stream",
     "text": [
      "<class 'pandas.core.frame.DataFrame'>\n",
      "RangeIndex: 284142 entries, 0 to 284141\n",
      "Data columns (total 31 columns):\n",
      " #   Column                      Non-Null Count   Dtype  \n",
      "---  ------                      --------------   -----  \n",
      " 0   RowId                       284142 non-null  object \n",
      " 1   YearStart                   284142 non-null  int64  \n",
      " 2   YearEnd                     284142 non-null  int64  \n",
      " 3   LocationAbbr                284142 non-null  object \n",
      " 4   LocationDesc                284142 non-null  object \n",
      " 5   Datasource                  284142 non-null  object \n",
      " 6   Class                       284142 non-null  object \n",
      " 7   Topic                       284142 non-null  object \n",
      " 8   Question                    284142 non-null  object \n",
      " 9   Data_Value_Unit             284142 non-null  object \n",
      " 10  DataValueTypeID             284142 non-null  object \n",
      " 11  Data_Value_Type             284142 non-null  object \n",
      " 12  Data_Value                  192808 non-null  float64\n",
      " 13  Data_Value_Alt              192808 non-null  float64\n",
      " 14  Data_Value_Footnote_Symbol  109976 non-null  object \n",
      " 15  Data_Value_Footnote         109976 non-null  object \n",
      " 16  Low_Confidence_Limit        192597 non-null  float64\n",
      " 17  High_Confidence_Limit       192597 non-null  float64\n",
      " 18  StratificationCategory1     284142 non-null  object \n",
      " 19  Stratification1             284142 non-null  object \n",
      " 20  StratificationCategory2     247269 non-null  object \n",
      " 21  Stratification2             247269 non-null  object \n",
      " 22  Geolocation                 253653 non-null  object \n",
      " 23  ClassID                     284142 non-null  object \n",
      " 24  TopicID                     284142 non-null  object \n",
      " 25  QuestionID                  284142 non-null  object \n",
      " 26  LocationID                  284142 non-null  int64  \n",
      " 27  StratificationCategoryID1   284142 non-null  object \n",
      " 28  StratificationID1           284142 non-null  object \n",
      " 29  StratificationCategoryID2   284142 non-null  object \n",
      " 30  StratificationID2           284142 non-null  object \n",
      "dtypes: float64(4), int64(3), object(24)\n",
      "memory usage: 67.2+ MB\n"
     ]
    }
   ],
   "source": [
    "Alzheimers_data.info()\n",
    "\n"
   ]
  },
  {
   "cell_type": "code",
<<<<<<< HEAD
<<<<<<< HEAD
<<<<<<< HEAD:Project-3/starter code/Alzheimer_HealthyAgingData.ipynb
   "execution_count": 4,
=======
   "execution_count": 210,
>>>>>>> 8983b2b5fff96ebc161d4ce459d33a131b93afb5:Alzheimer_HealthyAgingData.ipynb
=======
   "execution_count": 45,
>>>>>>> parent of c51138a (updates to starter code)
=======
   "execution_count": 45,
>>>>>>> parent of c51138a (updates to starter code)
   "metadata": {},
   "outputs": [
    {
     "data": {
      "text/html": [
       "<div>\n",
       "<style scoped>\n",
       "    .dataframe tbody tr th:only-of-type {\n",
       "        vertical-align: middle;\n",
       "    }\n",
       "\n",
       "    .dataframe tbody tr th {\n",
       "        vertical-align: top;\n",
       "    }\n",
       "\n",
       "    .dataframe thead th {\n",
       "        text-align: right;\n",
       "    }\n",
       "</style>\n",
       "<table border=\"1\" class=\"dataframe\">\n",
       "  <thead>\n",
       "    <tr style=\"text-align: right;\">\n",
       "      <th></th>\n",
       "      <th>YearStart</th>\n",
       "      <th>YearEnd</th>\n",
       "      <th>LocationAbbr</th>\n",
       "      <th>Class</th>\n",
       "      <th>Topic</th>\n",
       "      <th>Data_Value_Unit</th>\n",
       "      <th>Data_Value</th>\n",
       "      <th>Stratification1</th>\n",
       "      <th>Stratification2</th>\n",
       "      <th>Geolocation</th>\n",
       "    </tr>\n",
       "  </thead>\n",
       "  <tbody>\n",
       "    <tr>\n",
       "      <th>0</th>\n",
       "      <td>2022</td>\n",
       "      <td>2022</td>\n",
       "      <td>PA</td>\n",
       "      <td>Mental Health</td>\n",
       "      <td>Frequent mental distress</td>\n",
       "      <td>%</td>\n",
       "      <td>NaN</td>\n",
       "      <td>50-64 years</td>\n",
       "      <td>Native Am/Alaskan Native</td>\n",
       "      <td>POINT (-77.86070029 40.79373015)</td>\n",
       "    </tr>\n",
       "    <tr>\n",
       "      <th>1</th>\n",
       "      <td>2022</td>\n",
       "      <td>2022</td>\n",
       "      <td>SD</td>\n",
       "      <td>Mental Health</td>\n",
       "      <td>Frequent mental distress</td>\n",
       "      <td>%</td>\n",
       "      <td>NaN</td>\n",
       "      <td>65 years or older</td>\n",
       "      <td>Asian/Pacific Islander</td>\n",
       "      <td>POINT (-100.3735306 44.35313005)</td>\n",
       "    </tr>\n",
       "    <tr>\n",
       "      <th>2</th>\n",
       "      <td>2022</td>\n",
       "      <td>2022</td>\n",
       "      <td>ID</td>\n",
       "      <td>Mental Health</td>\n",
       "      <td>Frequent mental distress</td>\n",
       "      <td>%</td>\n",
       "      <td>NaN</td>\n",
       "      <td>65 years or older</td>\n",
       "      <td>Black, non-Hispanic</td>\n",
       "      <td>POINT (-114.36373 43.68263001)</td>\n",
       "    </tr>\n",
       "    <tr>\n",
       "      <th>3</th>\n",
       "      <td>2022</td>\n",
       "      <td>2022</td>\n",
       "      <td>MD</td>\n",
       "      <td>Mental Health</td>\n",
       "      <td>Frequent mental distress</td>\n",
       "      <td>%</td>\n",
       "      <td>9.0</td>\n",
       "      <td>65 years or older</td>\n",
       "      <td>Black, non-Hispanic</td>\n",
       "      <td>POINT (-76.60926011 39.29058096)</td>\n",
       "    </tr>\n",
       "    <tr>\n",
       "      <th>4</th>\n",
       "      <td>2022</td>\n",
       "      <td>2022</td>\n",
       "      <td>WI</td>\n",
       "      <td>Mental Health</td>\n",
       "      <td>Frequent mental distress</td>\n",
       "      <td>%</td>\n",
       "      <td>5.6</td>\n",
       "      <td>65 years or older</td>\n",
       "      <td>Male</td>\n",
       "      <td>POINT (-89.81637074 44.39319117)</td>\n",
       "    </tr>\n",
       "  </tbody>\n",
       "</table>\n",
       "</div>"
      ],
      "text/plain": [
       "   YearStart  YearEnd LocationAbbr          Class                     Topic  \\\n",
       "0       2022     2022           PA  Mental Health  Frequent mental distress   \n",
       "1       2022     2022           SD  Mental Health  Frequent mental distress   \n",
       "2       2022     2022           ID  Mental Health  Frequent mental distress   \n",
       "3       2022     2022           MD  Mental Health  Frequent mental distress   \n",
       "4       2022     2022           WI  Mental Health  Frequent mental distress   \n",
       "\n",
       "  Data_Value_Unit  Data_Value    Stratification1           Stratification2  \\\n",
       "0               %         NaN        50-64 years  Native Am/Alaskan Native   \n",
       "1               %         NaN  65 years or older    Asian/Pacific Islander   \n",
       "2               %         NaN  65 years or older       Black, non-Hispanic   \n",
       "3               %         9.0  65 years or older       Black, non-Hispanic   \n",
       "4               %         5.6  65 years or older                      Male   \n",
       "\n",
       "                        Geolocation  \n",
       "0  POINT (-77.86070029 40.79373015)  \n",
       "1  POINT (-100.3735306 44.35313005)  \n",
       "2    POINT (-114.36373 43.68263001)  \n",
       "3  POINT (-76.60926011 39.29058096)  \n",
       "4  POINT (-89.81637074 44.39319117)  "
      ]
     },
<<<<<<< HEAD
<<<<<<< HEAD
     "execution_count": 210,
=======
     "execution_count": 45,
>>>>>>> parent of c51138a (updates to starter code)
=======
     "execution_count": 45,
>>>>>>> parent of c51138a (updates to starter code)
     "metadata": {},
     "output_type": "execute_result"
    }
   ],
   "source": [
    "\n",
    "Alzheimers_data.drop(columns=[\"RowId\",\"ClassID\",\"TopicID\",\"StratificationCategory1\",\"StratificationID1\",\"StratificationID2\",\"StratificationCategory2\",\"StratificationCategoryID1\",\"StratificationCategoryID2\", \"LocationDesc\",\"Question\",\"Datasource\",\"QuestionID\", \"LocationID\",\"DataValueTypeID\",\"Data_Value_Type\",\"Data_Value_Alt\",\"Data_Value_Footnote_Symbol\",\"Data_Value_Footnote\",\"High_Confidence_Limit\",\"Low_Confidence_Limit\"], inplace= True)\n",
    "\n",
    "Alzheimers_data.head()\n"
   ]
  },
  {
   "cell_type": "code",
<<<<<<< HEAD
<<<<<<< HEAD
<<<<<<< HEAD:Project-3/starter code/Alzheimer_HealthyAgingData.ipynb
   "execution_count": 5,
=======
   "execution_count": 211,
>>>>>>> 8983b2b5fff96ebc161d4ce459d33a131b93afb5:Alzheimer_HealthyAgingData.ipynb
=======
   "execution_count": 46,
>>>>>>> parent of c51138a (updates to starter code)
=======
   "execution_count": 46,
>>>>>>> parent of c51138a (updates to starter code)
   "metadata": {},
   "outputs": [
    {
     "data": {
      "text/html": [
       "<div>\n",
       "<style scoped>\n",
       "    .dataframe tbody tr th:only-of-type {\n",
       "        vertical-align: middle;\n",
       "    }\n",
       "\n",
       "    .dataframe tbody tr th {\n",
       "        vertical-align: top;\n",
       "    }\n",
       "\n",
       "    .dataframe thead th {\n",
       "        text-align: right;\n",
       "    }\n",
       "</style>\n",
       "<table border=\"1\" class=\"dataframe\">\n",
       "  <thead>\n",
       "    <tr style=\"text-align: right;\">\n",
       "      <th></th>\n",
       "      <th>YearStart</th>\n",
       "      <th>YearEnd</th>\n",
       "      <th>LocationAbbr</th>\n",
       "      <th>Class</th>\n",
       "      <th>Topic</th>\n",
       "      <th>Data_Value_Unit</th>\n",
       "      <th>Data_Value</th>\n",
       "      <th>Stratification1</th>\n",
       "      <th>Stratification2</th>\n",
       "      <th>Geolocation</th>\n",
       "    </tr>\n",
       "  </thead>\n",
       "  <tbody>\n",
       "    <tr>\n",
       "      <th>3</th>\n",
       "      <td>2022</td>\n",
       "      <td>2022</td>\n",
       "      <td>MD</td>\n",
       "      <td>Mental Health</td>\n",
       "      <td>Frequent mental distress</td>\n",
       "      <td>%</td>\n",
       "      <td>9.0</td>\n",
       "      <td>65 years or older</td>\n",
       "      <td>Black, non-Hispanic</td>\n",
       "      <td>POINT (-76.60926011 39.29058096)</td>\n",
       "    </tr>\n",
       "    <tr>\n",
       "      <th>4</th>\n",
       "      <td>2022</td>\n",
       "      <td>2022</td>\n",
       "      <td>WI</td>\n",
       "      <td>Mental Health</td>\n",
       "      <td>Frequent mental distress</td>\n",
       "      <td>%</td>\n",
       "      <td>5.6</td>\n",
       "      <td>65 years or older</td>\n",
       "      <td>Male</td>\n",
       "      <td>POINT (-89.81637074 44.39319117)</td>\n",
       "    </tr>\n",
       "    <tr>\n",
       "      <th>6</th>\n",
       "      <td>2022</td>\n",
       "      <td>2022</td>\n",
       "      <td>OK</td>\n",
       "      <td>Mental Health</td>\n",
       "      <td>Frequent mental distress</td>\n",
       "      <td>%</td>\n",
       "      <td>21.5</td>\n",
       "      <td>Overall</td>\n",
       "      <td>Native Am/Alaskan Native</td>\n",
       "      <td>POINT (-97.52107021 35.47203136)</td>\n",
       "    </tr>\n",
       "    <tr>\n",
       "      <th>7</th>\n",
       "      <td>2022</td>\n",
       "      <td>2022</td>\n",
       "      <td>PA</td>\n",
       "      <td>Mental Health</td>\n",
       "      <td>Frequent mental distress</td>\n",
       "      <td>%</td>\n",
       "      <td>10.0</td>\n",
       "      <td>Overall</td>\n",
       "      <td>White, non-Hispanic</td>\n",
       "      <td>POINT (-77.86070029 40.79373015)</td>\n",
       "    </tr>\n",
       "    <tr>\n",
       "      <th>8</th>\n",
       "      <td>2022</td>\n",
       "      <td>2022</td>\n",
       "      <td>PA</td>\n",
       "      <td>Overall Health</td>\n",
       "      <td>Disability status, including sensory or mobili...</td>\n",
       "      <td>%</td>\n",
       "      <td>39.9</td>\n",
       "      <td>Overall</td>\n",
       "      <td>Female</td>\n",
       "      <td>POINT (-77.86070029 40.79373015)</td>\n",
       "    </tr>\n",
       "  </tbody>\n",
       "</table>\n",
       "</div>"
      ],
      "text/plain": [
       "   YearStart  YearEnd LocationAbbr           Class  \\\n",
       "3       2022     2022           MD   Mental Health   \n",
       "4       2022     2022           WI   Mental Health   \n",
       "6       2022     2022           OK   Mental Health   \n",
       "7       2022     2022           PA   Mental Health   \n",
       "8       2022     2022           PA  Overall Health   \n",
       "\n",
       "                                               Topic Data_Value_Unit  \\\n",
       "3                           Frequent mental distress               %   \n",
       "4                           Frequent mental distress               %   \n",
       "6                           Frequent mental distress               %   \n",
       "7                           Frequent mental distress               %   \n",
       "8  Disability status, including sensory or mobili...               %   \n",
       "\n",
       "   Data_Value    Stratification1           Stratification2  \\\n",
       "3         9.0  65 years or older       Black, non-Hispanic   \n",
       "4         5.6  65 years or older                      Male   \n",
       "6        21.5            Overall  Native Am/Alaskan Native   \n",
       "7        10.0            Overall       White, non-Hispanic   \n",
       "8        39.9            Overall                    Female   \n",
       "\n",
       "                        Geolocation  \n",
       "3  POINT (-76.60926011 39.29058096)  \n",
       "4  POINT (-89.81637074 44.39319117)  \n",
       "6  POINT (-97.52107021 35.47203136)  \n",
       "7  POINT (-77.86070029 40.79373015)  \n",
       "8  POINT (-77.86070029 40.79373015)  "
      ]
     },
<<<<<<< HEAD
<<<<<<< HEAD
     "execution_count": 211,
=======
     "execution_count": 46,
>>>>>>> parent of c51138a (updates to starter code)
=======
     "execution_count": 46,
>>>>>>> parent of c51138a (updates to starter code)
     "metadata": {},
     "output_type": "execute_result"
    }
   ],
   "source": [
    "# drop NA values:\n",
    "\n",
    "Alzheimers_data = Alzheimers_data.dropna()\n",
    "\n",
    "Alzheimers_data.head()\n"
   ]
  },
  {
   "cell_type": "code",
<<<<<<< HEAD
<<<<<<< HEAD
<<<<<<< HEAD:Project-3/starter code/Alzheimer_HealthyAgingData.ipynb
   "execution_count": 6,
=======
   "execution_count": 212,
>>>>>>> 8983b2b5fff96ebc161d4ce459d33a131b93afb5:Alzheimer_HealthyAgingData.ipynb
=======
   "execution_count": 47,
>>>>>>> parent of c51138a (updates to starter code)
=======
   "execution_count": 47,
>>>>>>> parent of c51138a (updates to starter code)
   "metadata": {},
   "outputs": [
    {
     "data": {
      "text/plain": [
       "array(['Mental Health', 'Overall Health', 'Screenings and Vaccines',\n",
       "       'Nutrition/Physical Activity/Obesity', 'Smoking and Alcohol Use',\n",
       "       'Cognitive Decline', 'Caregiving'], dtype=object)"
      ]
     },
<<<<<<< HEAD
<<<<<<< HEAD
     "execution_count": 212,
=======
     "execution_count": 47,
>>>>>>> parent of c51138a (updates to starter code)
=======
     "execution_count": 47,
>>>>>>> parent of c51138a (updates to starter code)
     "metadata": {},
     "output_type": "execute_result"
    }
   ],
   "source": [
    "# find unique Topics\n",
    "unique_topics = Alzheimers_data['Class'].unique()\n",
    "\n",
    "unique_topics"
   ]
  },
  {
   "cell_type": "code",
<<<<<<< HEAD
<<<<<<< HEAD
<<<<<<< HEAD:Project-3/starter code/Alzheimer_HealthyAgingData.ipynb
   "execution_count": 7,
=======
   "execution_count": 213,
>>>>>>> 8983b2b5fff96ebc161d4ce459d33a131b93afb5:Alzheimer_HealthyAgingData.ipynb
=======
   "execution_count": 48,
>>>>>>> parent of c51138a (updates to starter code)
=======
   "execution_count": 48,
>>>>>>> parent of c51138a (updates to starter code)
   "metadata": {},
   "outputs": [
    {
     "data": {
      "text/html": [
       "<div>\n",
       "<style scoped>\n",
       "    .dataframe tbody tr th:only-of-type {\n",
       "        vertical-align: middle;\n",
       "    }\n",
       "\n",
       "    .dataframe tbody tr th {\n",
       "        vertical-align: top;\n",
       "    }\n",
       "\n",
       "    .dataframe thead th {\n",
       "        text-align: right;\n",
       "    }\n",
       "</style>\n",
       "<table border=\"1\" class=\"dataframe\">\n",
       "  <thead>\n",
       "    <tr style=\"text-align: right;\">\n",
       "      <th></th>\n",
       "      <th>YearStart</th>\n",
       "      <th>YearEnd</th>\n",
       "      <th>LocationAbbr</th>\n",
       "      <th>Class</th>\n",
       "      <th>Topic</th>\n",
       "      <th>Data_Value_Unit</th>\n",
       "      <th>Data_Value</th>\n",
       "      <th>Stratification1</th>\n",
       "      <th>Stratification2</th>\n",
       "      <th>Geolocation</th>\n",
       "    </tr>\n",
       "  </thead>\n",
       "  <tbody>\n",
       "    <tr>\n",
       "      <th>92</th>\n",
       "      <td>2022</td>\n",
       "      <td>2022</td>\n",
       "      <td>VA</td>\n",
       "      <td>Cognitive Decline</td>\n",
       "      <td>Talked with health care professional about sub...</td>\n",
       "      <td>%</td>\n",
       "      <td>51.4</td>\n",
       "      <td>50-64 years</td>\n",
       "      <td>Female</td>\n",
       "      <td>POINT (-78.45789046 37.54268067)</td>\n",
       "    </tr>\n",
       "    <tr>\n",
       "      <th>94</th>\n",
       "      <td>2022</td>\n",
       "      <td>2022</td>\n",
       "      <td>VT</td>\n",
       "      <td>Cognitive Decline</td>\n",
       "      <td>Talked with health care professional about sub...</td>\n",
       "      <td>%</td>\n",
       "      <td>54.4</td>\n",
       "      <td>Overall</td>\n",
       "      <td>Female</td>\n",
       "      <td>POINT (-72.51764079 43.62538124)</td>\n",
       "    </tr>\n",
       "    <tr>\n",
       "      <th>183</th>\n",
       "      <td>2019</td>\n",
       "      <td>2022</td>\n",
       "      <td>NY</td>\n",
       "      <td>Cognitive Decline</td>\n",
       "      <td>Subjective cognitive decline or memory loss am...</td>\n",
       "      <td>%</td>\n",
       "      <td>13.8</td>\n",
       "      <td>50-64 years</td>\n",
       "      <td>Hispanic</td>\n",
       "      <td>POINT (-75.54397043 42.82700103)</td>\n",
       "    </tr>\n",
       "    <tr>\n",
       "      <th>185</th>\n",
       "      <td>2019</td>\n",
       "      <td>2022</td>\n",
       "      <td>WA</td>\n",
       "      <td>Cognitive Decline</td>\n",
       "      <td>Subjective cognitive decline or memory loss am...</td>\n",
       "      <td>%</td>\n",
       "      <td>9.5</td>\n",
       "      <td>65 years or older</td>\n",
       "      <td>Female</td>\n",
       "      <td>POINT (-120.4700108 47.52227863)</td>\n",
       "    </tr>\n",
       "    <tr>\n",
       "      <th>186</th>\n",
       "      <td>2019</td>\n",
       "      <td>2022</td>\n",
       "      <td>WA</td>\n",
       "      <td>Cognitive Decline</td>\n",
       "      <td>Subjective cognitive decline or memory loss am...</td>\n",
       "      <td>%</td>\n",
       "      <td>9.3</td>\n",
       "      <td>65 years or older</td>\n",
       "      <td>Male</td>\n",
       "      <td>POINT (-120.4700108 47.52227863)</td>\n",
       "    </tr>\n",
       "  </tbody>\n",
       "</table>\n",
       "</div>"
      ],
      "text/plain": [
       "     YearStart  YearEnd LocationAbbr              Class  \\\n",
       "92        2022     2022           VA  Cognitive Decline   \n",
       "94        2022     2022           VT  Cognitive Decline   \n",
       "183       2019     2022           NY  Cognitive Decline   \n",
       "185       2019     2022           WA  Cognitive Decline   \n",
       "186       2019     2022           WA  Cognitive Decline   \n",
       "\n",
       "                                                 Topic Data_Value_Unit  \\\n",
       "92   Talked with health care professional about sub...               %   \n",
       "94   Talked with health care professional about sub...               %   \n",
       "183  Subjective cognitive decline or memory loss am...               %   \n",
       "185  Subjective cognitive decline or memory loss am...               %   \n",
       "186  Subjective cognitive decline or memory loss am...               %   \n",
       "\n",
       "     Data_Value    Stratification1 Stratification2  \\\n",
       "92         51.4        50-64 years          Female   \n",
       "94         54.4            Overall          Female   \n",
       "183        13.8        50-64 years        Hispanic   \n",
       "185         9.5  65 years or older          Female   \n",
       "186         9.3  65 years or older            Male   \n",
       "\n",
       "                          Geolocation  \n",
       "92   POINT (-78.45789046 37.54268067)  \n",
       "94   POINT (-72.51764079 43.62538124)  \n",
       "183  POINT (-75.54397043 42.82700103)  \n",
       "185  POINT (-120.4700108 47.52227863)  \n",
       "186  POINT (-120.4700108 47.52227863)  "
      ]
     },
<<<<<<< HEAD
<<<<<<< HEAD
     "execution_count": 213,
=======
     "execution_count": 48,
>>>>>>> parent of c51138a (updates to starter code)
=======
     "execution_count": 48,
>>>>>>> parent of c51138a (updates to starter code)
     "metadata": {},
     "output_type": "execute_result"
    }
   ],
   "source": [
    "# filter DF by column \"Class\"\n",
    "\n",
    "# Define the specific classes you want to keep\n",
    "Filtered_class = [\"Cognitive Decline\"]\n",
    "\n",
    "# Filter the DataFrame to only show the 'Class' column with certain classes\n",
    "Alzheimers_data = Alzheimers_data[Alzheimers_data['Class'].isin(Filtered_class)]\n",
    "\n",
    "Alzheimers_data.head()\n"
   ]
  },
  {
   "cell_type": "code",
<<<<<<< HEAD
<<<<<<< HEAD
<<<<<<< HEAD:Project-3/starter code/Alzheimer_HealthyAgingData.ipynb
   "execution_count": 8,
=======
   "execution_count": null,
   "metadata": {},
   "outputs": [],
   "source": []
  },
  {
   "cell_type": "code",
   "execution_count": 214,
>>>>>>> 8983b2b5fff96ebc161d4ce459d33a131b93afb5:Alzheimer_HealthyAgingData.ipynb
=======
   "execution_count": 49,
>>>>>>> parent of c51138a (updates to starter code)
=======
   "execution_count": 49,
>>>>>>> parent of c51138a (updates to starter code)
   "metadata": {},
   "outputs": [
    {
     "data": {
      "text/html": [
       "<div>\n",
       "<style scoped>\n",
       "    .dataframe tbody tr th:only-of-type {\n",
       "        vertical-align: middle;\n",
       "    }\n",
       "\n",
       "    .dataframe tbody tr th {\n",
       "        vertical-align: top;\n",
       "    }\n",
       "\n",
       "    .dataframe thead th {\n",
       "        text-align: right;\n",
       "    }\n",
       "</style>\n",
       "<table border=\"1\" class=\"dataframe\">\n",
       "  <thead>\n",
       "    <tr style=\"text-align: right;\">\n",
       "      <th></th>\n",
       "      <th>YearStart</th>\n",
       "      <th>YearEnd</th>\n",
       "      <th>LocationAbbr</th>\n",
       "      <th>Class</th>\n",
       "      <th>Topic</th>\n",
       "      <th>Data_Value_Unit</th>\n",
       "      <th>Data_Value(%)</th>\n",
       "      <th>Age Group</th>\n",
       "      <th>Gender/Race/Ethnicity</th>\n",
       "      <th>Geolocation</th>\n",
       "    </tr>\n",
       "  </thead>\n",
       "  <tbody>\n",
       "    <tr>\n",
       "      <th>92</th>\n",
       "      <td>2022</td>\n",
       "      <td>2022</td>\n",
       "      <td>VA</td>\n",
       "      <td>Cognitive Decline</td>\n",
       "      <td>Talked with health care professional about sub...</td>\n",
       "      <td>%</td>\n",
       "      <td>51.4</td>\n",
       "      <td>50-64 years</td>\n",
       "      <td>Female</td>\n",
       "      <td>POINT (-78.45789046 37.54268067)</td>\n",
       "    </tr>\n",
       "    <tr>\n",
       "      <th>94</th>\n",
       "      <td>2022</td>\n",
       "      <td>2022</td>\n",
       "      <td>VT</td>\n",
       "      <td>Cognitive Decline</td>\n",
       "      <td>Talked with health care professional about sub...</td>\n",
       "      <td>%</td>\n",
       "      <td>54.4</td>\n",
       "      <td>Overall</td>\n",
       "      <td>Female</td>\n",
       "      <td>POINT (-72.51764079 43.62538124)</td>\n",
       "    </tr>\n",
       "    <tr>\n",
       "      <th>183</th>\n",
       "      <td>2019</td>\n",
       "      <td>2022</td>\n",
       "      <td>NY</td>\n",
       "      <td>Cognitive Decline</td>\n",
       "      <td>Subjective cognitive decline or memory loss am...</td>\n",
       "      <td>%</td>\n",
       "      <td>13.8</td>\n",
       "      <td>50-64 years</td>\n",
       "      <td>Hispanic</td>\n",
       "      <td>POINT (-75.54397043 42.82700103)</td>\n",
       "    </tr>\n",
       "    <tr>\n",
       "      <th>185</th>\n",
       "      <td>2019</td>\n",
       "      <td>2022</td>\n",
       "      <td>WA</td>\n",
       "      <td>Cognitive Decline</td>\n",
       "      <td>Subjective cognitive decline or memory loss am...</td>\n",
       "      <td>%</td>\n",
       "      <td>9.5</td>\n",
       "      <td>65 years or older</td>\n",
       "      <td>Female</td>\n",
       "      <td>POINT (-120.4700108 47.52227863)</td>\n",
       "    </tr>\n",
       "    <tr>\n",
       "      <th>186</th>\n",
       "      <td>2019</td>\n",
       "      <td>2022</td>\n",
       "      <td>WA</td>\n",
       "      <td>Cognitive Decline</td>\n",
       "      <td>Subjective cognitive decline or memory loss am...</td>\n",
       "      <td>%</td>\n",
       "      <td>9.3</td>\n",
       "      <td>65 years or older</td>\n",
       "      <td>Male</td>\n",
       "      <td>POINT (-120.4700108 47.52227863)</td>\n",
       "    </tr>\n",
       "  </tbody>\n",
       "</table>\n",
       "</div>"
      ],
      "text/plain": [
       "     YearStart  YearEnd LocationAbbr              Class  \\\n",
       "92        2022     2022           VA  Cognitive Decline   \n",
       "94        2022     2022           VT  Cognitive Decline   \n",
       "183       2019     2022           NY  Cognitive Decline   \n",
       "185       2019     2022           WA  Cognitive Decline   \n",
       "186       2019     2022           WA  Cognitive Decline   \n",
       "\n",
       "                                                 Topic Data_Value_Unit  \\\n",
       "92   Talked with health care professional about sub...               %   \n",
       "94   Talked with health care professional about sub...               %   \n",
       "183  Subjective cognitive decline or memory loss am...               %   \n",
       "185  Subjective cognitive decline or memory loss am...               %   \n",
       "186  Subjective cognitive decline or memory loss am...               %   \n",
       "\n",
       "     Data_Value(%)          Age Group Gender/Race/Ethnicity  \\\n",
       "92            51.4        50-64 years                Female   \n",
       "94            54.4            Overall                Female   \n",
       "183           13.8        50-64 years              Hispanic   \n",
       "185            9.5  65 years or older                Female   \n",
       "186            9.3  65 years or older                  Male   \n",
       "\n",
       "                          Geolocation  \n",
       "92   POINT (-78.45789046 37.54268067)  \n",
       "94   POINT (-72.51764079 43.62538124)  \n",
       "183  POINT (-75.54397043 42.82700103)  \n",
       "185  POINT (-120.4700108 47.52227863)  \n",
       "186  POINT (-120.4700108 47.52227863)  "
      ]
     },
<<<<<<< HEAD
<<<<<<< HEAD
     "execution_count": 214,
=======
     "execution_count": 49,
>>>>>>> parent of c51138a (updates to starter code)
=======
     "execution_count": 49,
>>>>>>> parent of c51138a (updates to starter code)
     "metadata": {},
     "output_type": "execute_result"
    }
   ],
   "source": [
    "Alzheimers_data.rename(columns={'Data_Value': 'Data_Value(%)', 'Stratification1': 'Age Group', 'Stratification2': 'Gender/Race/Ethnicity'}, inplace=True)\n",
    "Alzheimers_data.head()\n",
    "\n",
    "\n"
   ]
  },
  {
   "cell_type": "code",
<<<<<<< HEAD
<<<<<<< HEAD
<<<<<<< HEAD:Project-3/starter code/Alzheimer_HealthyAgingData.ipynb
   "execution_count": 9,
=======
   "execution_count": 215,
>>>>>>> 8983b2b5fff96ebc161d4ce459d33a131b93afb5:Alzheimer_HealthyAgingData.ipynb
=======
   "execution_count": 50,
>>>>>>> parent of c51138a (updates to starter code)
=======
   "execution_count": 50,
>>>>>>> parent of c51138a (updates to starter code)
   "metadata": {},
   "outputs": [
    {
     "name": "stdout",
     "output_type": "stream",
     "text": [
      "<class 'pandas.core.frame.DataFrame'>\n",
      "Index: 7480 entries, 92 to 284131\n",
      "Data columns (total 10 columns):\n",
      " #   Column                 Non-Null Count  Dtype  \n",
      "---  ------                 --------------  -----  \n",
      " 0   YearStart              7480 non-null   int64  \n",
      " 1   YearEnd                7480 non-null   int64  \n",
      " 2   LocationAbbr           7480 non-null   object \n",
      " 3   Class                  7480 non-null   object \n",
      " 4   Topic                  7480 non-null   object \n",
      " 5   Data_Value_Unit        7480 non-null   object \n",
      " 6   Data_Value(%)          7480 non-null   float64\n",
      " 7   Age Group              7480 non-null   object \n",
      " 8   Gender/Race/Ethnicity  7480 non-null   object \n",
      " 9   Geolocation            7480 non-null   object \n",
      "dtypes: float64(1), int64(2), object(7)\n",
      "memory usage: 642.8+ KB\n"
     ]
    }
   ],
   "source": [
    "# filtered_Alz_Data.drop(columns=[\"StratificationCategory1\",\"StratificationCategory2\",\"StratificationCategoryID1\", \"StratificationCategoryID2\"], inplace= True)\n",
    "# filtered_Alz_Data.head()\n",
    "\n",
    "Alzheimers_data.info()\n"
   ]
  },
  {
   "cell_type": "code",
<<<<<<< HEAD
<<<<<<< HEAD
<<<<<<< HEAD:Project-3/starter code/Alzheimer_HealthyAgingData.ipynb
   "execution_count": 10,
=======
   "execution_count": 216,
>>>>>>> 8983b2b5fff96ebc161d4ce459d33a131b93afb5:Alzheimer_HealthyAgingData.ipynb
=======
   "execution_count": 51,
>>>>>>> parent of c51138a (updates to starter code)
=======
   "execution_count": 51,
>>>>>>> parent of c51138a (updates to starter code)
   "metadata": {},
   "outputs": [
    {
     "data": {
      "text/html": [
       "<div>\n",
       "<style scoped>\n",
       "    .dataframe tbody tr th:only-of-type {\n",
       "        vertical-align: middle;\n",
       "    }\n",
       "\n",
       "    .dataframe tbody tr th {\n",
       "        vertical-align: top;\n",
       "    }\n",
       "\n",
       "    .dataframe thead th {\n",
       "        text-align: right;\n",
       "    }\n",
       "</style>\n",
       "<table border=\"1\" class=\"dataframe\">\n",
       "  <thead>\n",
       "    <tr style=\"text-align: right;\">\n",
       "      <th></th>\n",
       "      <th>YearStart</th>\n",
       "      <th>YearEnd</th>\n",
       "      <th>LocationAbbr</th>\n",
       "      <th>Class</th>\n",
       "      <th>Topic</th>\n",
       "      <th>Data_Value_Unit</th>\n",
       "      <th>Data_Value(%)</th>\n",
       "      <th>Age Group</th>\n",
       "      <th>Gender/Race/Ethnicity</th>\n",
       "      <th>Geolocation</th>\n",
       "    </tr>\n",
       "  </thead>\n",
       "  <tbody>\n",
       "    <tr>\n",
       "      <th>183</th>\n",
       "      <td>2019</td>\n",
       "      <td>2022</td>\n",
       "      <td>NY</td>\n",
       "      <td>Cognitive Decline</td>\n",
       "      <td>Subjective cognitive decline or memory loss am...</td>\n",
       "      <td>%</td>\n",
       "      <td>13.8</td>\n",
       "      <td>50-64 years</td>\n",
       "      <td>Hispanic</td>\n",
       "      <td>POINT (-75.54397043 42.82700103)</td>\n",
       "    </tr>\n",
       "    <tr>\n",
       "      <th>185</th>\n",
       "      <td>2019</td>\n",
       "      <td>2022</td>\n",
       "      <td>WA</td>\n",
       "      <td>Cognitive Decline</td>\n",
       "      <td>Subjective cognitive decline or memory loss am...</td>\n",
       "      <td>%</td>\n",
       "      <td>9.5</td>\n",
       "      <td>65 years or older</td>\n",
       "      <td>Female</td>\n",
       "      <td>POINT (-120.4700108 47.52227863)</td>\n",
       "    </tr>\n",
       "    <tr>\n",
       "      <th>186</th>\n",
       "      <td>2019</td>\n",
       "      <td>2022</td>\n",
       "      <td>WA</td>\n",
       "      <td>Cognitive Decline</td>\n",
       "      <td>Subjective cognitive decline or memory loss am...</td>\n",
       "      <td>%</td>\n",
       "      <td>9.3</td>\n",
       "      <td>65 years or older</td>\n",
       "      <td>Male</td>\n",
       "      <td>POINT (-120.4700108 47.52227863)</td>\n",
       "    </tr>\n",
       "    <tr>\n",
       "      <th>192</th>\n",
       "      <td>2019</td>\n",
       "      <td>2022</td>\n",
       "      <td>WA</td>\n",
       "      <td>Cognitive Decline</td>\n",
       "      <td>Need assistance with day-to-day activities bec...</td>\n",
       "      <td>%</td>\n",
       "      <td>22.1</td>\n",
       "      <td>Overall</td>\n",
       "      <td>Male</td>\n",
       "      <td>POINT (-120.4700108 47.52227863)</td>\n",
       "    </tr>\n",
       "    <tr>\n",
       "      <th>195</th>\n",
       "      <td>2019</td>\n",
       "      <td>2022</td>\n",
       "      <td>GA</td>\n",
       "      <td>Cognitive Decline</td>\n",
       "      <td>Talked with health care professional about sub...</td>\n",
       "      <td>%</td>\n",
       "      <td>36.5</td>\n",
       "      <td>65 years or older</td>\n",
       "      <td>Black, non-Hispanic</td>\n",
       "      <td>POINT (-83.62758035 32.83968109)</td>\n",
       "    </tr>\n",
       "  </tbody>\n",
       "</table>\n",
       "</div>"
      ],
      "text/plain": [
       "     YearStart  YearEnd LocationAbbr              Class  \\\n",
       "183       2019     2022           NY  Cognitive Decline   \n",
       "185       2019     2022           WA  Cognitive Decline   \n",
       "186       2019     2022           WA  Cognitive Decline   \n",
       "192       2019     2022           WA  Cognitive Decline   \n",
       "195       2019     2022           GA  Cognitive Decline   \n",
       "\n",
       "                                                 Topic Data_Value_Unit  \\\n",
       "183  Subjective cognitive decline or memory loss am...               %   \n",
       "185  Subjective cognitive decline or memory loss am...               %   \n",
       "186  Subjective cognitive decline or memory loss am...               %   \n",
       "192  Need assistance with day-to-day activities bec...               %   \n",
       "195  Talked with health care professional about sub...               %   \n",
       "\n",
       "     Data_Value(%)          Age Group Gender/Race/Ethnicity  \\\n",
       "183           13.8        50-64 years              Hispanic   \n",
       "185            9.5  65 years or older                Female   \n",
       "186            9.3  65 years or older                  Male   \n",
       "192           22.1            Overall                  Male   \n",
       "195           36.5  65 years or older   Black, non-Hispanic   \n",
       "\n",
       "                          Geolocation  \n",
       "183  POINT (-75.54397043 42.82700103)  \n",
       "185  POINT (-120.4700108 47.52227863)  \n",
       "186  POINT (-120.4700108 47.52227863)  \n",
       "192  POINT (-120.4700108 47.52227863)  \n",
       "195  POINT (-83.62758035 32.83968109)  "
      ]
     },
<<<<<<< HEAD
<<<<<<< HEAD
     "execution_count": 216,
=======
     "execution_count": 51,
>>>>>>> parent of c51138a (updates to starter code)
=======
     "execution_count": 51,
>>>>>>> parent of c51138a (updates to starter code)
     "metadata": {},
     "output_type": "execute_result"
    }
   ],
   "source": [
    "# Define the specific year you want to filter by\n",
    "filtered_year = 2019\n",
    "\n",
    "# Filter the DataFrame to only show rows where 'YearStart' equals the specified year\n",
    "filtered_Alz_Data = Alzheimers_data[Alzheimers_data['YearStart'] == filtered_year]\n",
    "\n",
    "# Display the first few rows of the filtered DataFrame\n",
    "filtered_Alz_Data.head()"
   ]
  },
  {
   "cell_type": "code",
<<<<<<< HEAD
<<<<<<< HEAD
<<<<<<< HEAD:Project-3/starter code/Alzheimer_HealthyAgingData.ipynb
   "execution_count": 11,
=======
   "execution_count": 217,
=======
   "execution_count": 52,
>>>>>>> parent of c51138a (updates to starter code)
=======
   "execution_count": 52,
>>>>>>> parent of c51138a (updates to starter code)
   "metadata": {},
   "outputs": [
    {
     "name": "stdout",
     "output_type": "stream",
     "text": [
      "<class 'pandas.core.frame.DataFrame'>\n",
      "Index: 2854 entries, 183 to 283976\n",
      "Data columns (total 10 columns):\n",
      " #   Column                 Non-Null Count  Dtype  \n",
      "---  ------                 --------------  -----  \n",
      " 0   YearStart              2854 non-null   int64  \n",
      " 1   YearEnd                2854 non-null   int64  \n",
      " 2   LocationAbbr           2854 non-null   object \n",
      " 3   Class                  2854 non-null   object \n",
      " 4   Topic                  2854 non-null   object \n",
      " 5   Data_Value_Unit        2854 non-null   object \n",
      " 6   Data_Value(%)          2854 non-null   float64\n",
      " 7   Age Group              2854 non-null   object \n",
      " 8   Gender/Race/Ethnicity  2854 non-null   object \n",
      " 9   Geolocation            2854 non-null   object \n",
      "dtypes: float64(1), int64(2), object(7)\n",
      "memory usage: 245.3+ KB\n"
     ]
    }
   ],
   "source": [
    "filtered_Alz_Data.info()"
   ]
  },
  {
   "cell_type": "code",
<<<<<<< HEAD
<<<<<<< HEAD
   "execution_count": 218,
>>>>>>> 8983b2b5fff96ebc161d4ce459d33a131b93afb5:Alzheimer_HealthyAgingData.ipynb
=======
   "execution_count": 53,
>>>>>>> parent of c51138a (updates to starter code)
=======
   "execution_count": 53,
>>>>>>> parent of c51138a (updates to starter code)
   "metadata": {},
   "outputs": [
    {
     "data": {
      "text/html": [
       "<div>\n",
       "<style scoped>\n",
       "    .dataframe tbody tr th:only-of-type {\n",
       "        vertical-align: middle;\n",
       "    }\n",
       "\n",
       "    .dataframe tbody tr th {\n",
       "        vertical-align: top;\n",
       "    }\n",
       "\n",
       "    .dataframe thead th {\n",
       "        text-align: right;\n",
       "    }\n",
       "</style>\n",
       "<table border=\"1\" class=\"dataframe\">\n",
       "  <thead>\n",
       "    <tr style=\"text-align: right;\">\n",
       "      <th></th>\n",
       "      <th>YearStart</th>\n",
       "      <th>YearEnd</th>\n",
       "      <th>LocationAbbr</th>\n",
       "      <th>Class</th>\n",
       "      <th>Topic</th>\n",
       "      <th>Data_Value_Unit</th>\n",
       "      <th>Data_Value(%)</th>\n",
       "      <th>Age Group</th>\n",
       "      <th>Gender/Race/Ethnicity</th>\n",
       "      <th>Geolocation</th>\n",
       "      <th>Gender</th>\n",
       "      <th>Race/Ethnicity</th>\n",
       "    </tr>\n",
       "  </thead>\n",
       "  <tbody>\n",
       "    <tr>\n",
       "      <th>183</th>\n",
       "      <td>2019</td>\n",
       "      <td>2022</td>\n",
       "      <td>NY</td>\n",
       "      <td>Cognitive Decline</td>\n",
       "      <td>Subjective cognitive decline or memory loss am...</td>\n",
       "      <td>%</td>\n",
       "      <td>13.8</td>\n",
       "      <td>50-64 years</td>\n",
       "      <td>Hispanic</td>\n",
       "      <td>POINT (-75.54397043 42.82700103)</td>\n",
       "      <td>NaN</td>\n",
       "      <td>NaN</td>\n",
       "    </tr>\n",
       "    <tr>\n",
       "      <th>185</th>\n",
       "      <td>2019</td>\n",
       "      <td>2022</td>\n",
       "      <td>WA</td>\n",
       "      <td>Cognitive Decline</td>\n",
       "      <td>Subjective cognitive decline or memory loss am...</td>\n",
       "      <td>%</td>\n",
       "      <td>9.5</td>\n",
       "      <td>65 years or older</td>\n",
       "      <td>Female</td>\n",
       "      <td>POINT (-120.4700108 47.52227863)</td>\n",
       "      <td>NaN</td>\n",
       "      <td>NaN</td>\n",
       "    </tr>\n",
       "    <tr>\n",
       "      <th>186</th>\n",
       "      <td>2019</td>\n",
       "      <td>2022</td>\n",
       "      <td>WA</td>\n",
       "      <td>Cognitive Decline</td>\n",
       "      <td>Subjective cognitive decline or memory loss am...</td>\n",
       "      <td>%</td>\n",
       "      <td>9.3</td>\n",
       "      <td>65 years or older</td>\n",
       "      <td>Male</td>\n",
       "      <td>POINT (-120.4700108 47.52227863)</td>\n",
       "      <td>NaN</td>\n",
       "      <td>NaN</td>\n",
       "    </tr>\n",
       "    <tr>\n",
       "      <th>192</th>\n",
       "      <td>2019</td>\n",
       "      <td>2022</td>\n",
       "      <td>WA</td>\n",
       "      <td>Cognitive Decline</td>\n",
       "      <td>Need assistance with day-to-day activities bec...</td>\n",
       "      <td>%</td>\n",
       "      <td>22.1</td>\n",
       "      <td>Overall</td>\n",
       "      <td>Male</td>\n",
       "      <td>POINT (-120.4700108 47.52227863)</td>\n",
       "      <td>NaN</td>\n",
       "      <td>NaN</td>\n",
       "    </tr>\n",
       "    <tr>\n",
       "      <th>195</th>\n",
       "      <td>2019</td>\n",
       "      <td>2022</td>\n",
       "      <td>GA</td>\n",
       "      <td>Cognitive Decline</td>\n",
       "      <td>Talked with health care professional about sub...</td>\n",
       "      <td>%</td>\n",
       "      <td>36.5</td>\n",
       "      <td>65 years or older</td>\n",
       "      <td>Black, non-Hispanic</td>\n",
       "      <td>POINT (-83.62758035 32.83968109)</td>\n",
       "      <td>NaN</td>\n",
       "      <td>NaN</td>\n",
       "    </tr>\n",
       "  </tbody>\n",
       "</table>\n",
       "</div>"
      ],
      "text/plain": [
       "     YearStart  YearEnd LocationAbbr              Class  \\\n",
       "183       2019     2022           NY  Cognitive Decline   \n",
       "185       2019     2022           WA  Cognitive Decline   \n",
       "186       2019     2022           WA  Cognitive Decline   \n",
       "192       2019     2022           WA  Cognitive Decline   \n",
       "195       2019     2022           GA  Cognitive Decline   \n",
       "\n",
       "                                                 Topic Data_Value_Unit  \\\n",
       "183  Subjective cognitive decline or memory loss am...               %   \n",
       "185  Subjective cognitive decline or memory loss am...               %   \n",
       "186  Subjective cognitive decline or memory loss am...               %   \n",
       "192  Need assistance with day-to-day activities bec...               %   \n",
       "195  Talked with health care professional about sub...               %   \n",
       "\n",
       "     Data_Value(%)          Age Group Gender/Race/Ethnicity  \\\n",
       "183           13.8        50-64 years              Hispanic   \n",
       "185            9.5  65 years or older                Female   \n",
       "186            9.3  65 years or older                  Male   \n",
       "192           22.1            Overall                  Male   \n",
       "195           36.5  65 years or older   Black, non-Hispanic   \n",
       "\n",
       "                          Geolocation  Gender  Race/Ethnicity  \n",
       "183  POINT (-75.54397043 42.82700103)     NaN             NaN  \n",
       "185  POINT (-120.4700108 47.52227863)     NaN             NaN  \n",
       "186  POINT (-120.4700108 47.52227863)     NaN             NaN  \n",
       "192  POINT (-120.4700108 47.52227863)     NaN             NaN  \n",
       "195  POINT (-83.62758035 32.83968109)     NaN             NaN  "
      ]
     },
<<<<<<< HEAD
<<<<<<< HEAD
<<<<<<< HEAD:Project-3/starter code/Alzheimer_HealthyAgingData.ipynb
     "execution_count": 11,
=======
     "execution_count": 218,
>>>>>>> 8983b2b5fff96ebc161d4ce459d33a131b93afb5:Alzheimer_HealthyAgingData.ipynb
=======
     "execution_count": 53,
>>>>>>> parent of c51138a (updates to starter code)
=======
     "execution_count": 53,
>>>>>>> parent of c51138a (updates to starter code)
     "metadata": {},
     "output_type": "execute_result"
    }
   ],
   "source": [
    "filtered_Alz_Data.loc[:, ['Gender', 'Race/Ethnicity']] = filtered_Alz_Data['Gender/Race/Ethnicity'].str.split('/ ', expand=True)\n",
    "\n",
    "filtered_Alz_Data.head()\n",
    "\n"
   ]
  },
  {
   "cell_type": "code",
<<<<<<< HEAD
<<<<<<< HEAD
<<<<<<< HEAD:Project-3/starter code/Alzheimer_HealthyAgingData.ipynb
   "execution_count": 12,
=======
   "execution_count": 219,
>>>>>>> 8983b2b5fff96ebc161d4ce459d33a131b93afb5:Alzheimer_HealthyAgingData.ipynb
=======
   "execution_count": 54,
>>>>>>> parent of c51138a (updates to starter code)
=======
   "execution_count": 54,
>>>>>>> parent of c51138a (updates to starter code)
   "metadata": {},
   "outputs": [
    {
     "name": "stdout",
     "output_type": "stream",
     "text": [
      "Gender: ['Female', 'Male', 'Male', 'Male', 'Male', 'Female', 'Female', 'Female', 'Female', 'Male', 'Female', 'Male', 'Male', 'Male', 'Male', 'Male', 'Female', 'Female', 'Male', 'Male', 'Male', 'Male', 'Female', 'Male', 'Female', 'Female', 'Male', 'Male', 'Female', 'Male', 'Female', 'Female', 'Female', 'Male', 'Female', 'Male', 'Female', 'Male', 'Female', 'Female', 'Female', 'Male', 'Female', 'Female', 'Male', 'Female', 'Male', 'Female', 'Male', 'Female', 'Male', 'Male', 'Male', 'Male', 'Female', 'Female', 'Female', 'Male', 'Male', 'Female', 'Male', 'Male', 'Male', 'Male', 'Male', 'Female', 'Male', 'Male', 'Male', 'Female', 'Male', 'Male', 'Female', 'Male', 'Male', 'Female', 'Male', 'Male', 'Male', 'Female', 'Male', 'Female', 'Male', 'Male', 'Male', 'Female', 'Female', 'Female', 'Female', 'Male', 'Female', 'Female', 'Female', 'Male', 'Female', 'Female', 'Female', 'Female', 'Male', 'Male', 'Female', 'Female', 'Male', 'Female', 'Female', 'Female', 'Male', 'Male', 'Female', 'Male', 'Female', 'Female', 'Male', 'Female', 'Male', 'Female', 'Female', 'Female', 'Female', 'Female', 'Female', 'Male', 'Female', 'Female', 'Female', 'Male', 'Female', 'Male', 'Male', 'Male', 'Male', 'Male', 'Female', 'Male', 'Female', 'Female', 'Male', 'Male', 'Female', 'Female', 'Male', 'Female', 'Female', 'Male', 'Female', 'Female', 'Male', 'Female', 'Female', 'Male', 'Female', 'Male', 'Female', 'Female', 'Male', 'Male', 'Female', 'Male', 'Female', 'Male', 'Female', 'Male', 'Male', 'Female', 'Female', 'Female', 'Female', 'Female', 'Female', 'Male', 'Female', 'Female', 'Male', 'Male', 'Female', 'Female', 'Male', 'Female', 'Male', 'Female', 'Female', 'Female', 'Male', 'Female', 'Male', 'Female', 'Male', 'Male', 'Female', 'Male', 'Female', 'Male', 'Female', 'Female', 'Male', 'Male', 'Female', 'Female', 'Male', 'Male', 'Female', 'Male', 'Female', 'Female', 'Female', 'Male', 'Female', 'Female', 'Male', 'Male', 'Male', 'Female', 'Female', 'Male', 'Female', 'Male', 'Female', 'Male', 'Female', 'Female', 'Female', 'Male', 'Male', 'Female', 'Male', 'Male', 'Male', 'Male', 'Female', 'Female', 'Female', 'Male', 'Male', 'Male', 'Female', 'Male', 'Female', 'Male', 'Male', 'Male', 'Female', 'Female', 'Male', 'Female', 'Female', 'Male', 'Male', 'Female', 'Male', 'Female', 'Male', 'Male', 'Male', 'Male', 'Female', 'Female', 'Female', 'Female', 'Female', 'Female', 'Female', 'Female', 'Female', 'Female', 'Male', 'Female', 'Female', 'Female', 'Female', 'Male', 'Male', 'Female', 'Male', 'Male', 'Male', 'Female', 'Male', 'Female', 'Female', 'Male', 'Male', 'Male', 'Male', 'Male', 'Male', 'Female', 'Male', 'Female', 'Female', 'Male', 'Male', 'Female', 'Male', 'Female', 'Female', 'Female', 'Male', 'Female', 'Male', 'Male', 'Female', 'Male', 'Female', 'Female', 'Female', 'Male', 'Female', 'Female', 'Male', 'Male', 'Female', 'Female', 'Female', 'Female', 'Female', 'Male', 'Female', 'Female', 'Male', 'Female', 'Female', 'Male', 'Male', 'Male', 'Female', 'Female', 'Female', 'Male', 'Male', 'Male', 'Female', 'Male', 'Male', 'Female', 'Female', 'Male', 'Male', 'Female', 'Female', 'Female', 'Female', 'Male', 'Female', 'Female', 'Male', 'Male', 'Male', 'Male', 'Female', 'Female', 'Female', 'Female', 'Female', 'Male', 'Male', 'Female', 'Male', 'Female', 'Male', 'Female', 'Male', 'Male', 'Male', 'Female', 'Female', 'Female', 'Male', 'Female', 'Male', 'Female', 'Male', 'Female', 'Female', 'Male', 'Male', 'Male', 'Female', 'Male', 'Male', 'Female', 'Male', 'Female', 'Male', 'Female', 'Female', 'Male', 'Male', 'Female', 'Female', 'Female', 'Female', 'Male', 'Female', 'Female', 'Female', 'Female', 'Female', 'Male', 'Female', 'Male', 'Male', 'Female', 'Female', 'Male', 'Male', 'Female', 'Female', 'Female', 'Female', 'Female', 'Female', 'Male', 'Female', 'Male', 'Male', 'Male', 'Female', 'Female', 'Male', 'Female', 'Female', 'Female', 'Male', 'Female', 'Male', 'Male', 'Male', 'Female', 'Female', 'Male', 'Male', 'Male', 'Male', 'Male', 'Male', 'Female', 'Male', 'Male', 'Female', 'Male', 'Female', 'Female', 'Female', 'Male', 'Male', 'Female', 'Female', 'Male', 'Female', 'Female', 'Female', 'Female', 'Female', 'Male', 'Female', 'Male', 'Female', 'Female', 'Female', 'Male', 'Female', 'Female', 'Male', 'Female', 'Female', 'Female', 'Male', 'Female', 'Female', 'Female', 'Male', 'Male', 'Male', 'Male', 'Female', 'Female', 'Male', 'Male', 'Female', 'Female', 'Female', 'Male', 'Female', 'Male', 'Female', 'Male', 'Male', 'Female', 'Female', 'Male', 'Male', 'Female', 'Female', 'Male', 'Female', 'Male', 'Female', 'Female', 'Male', 'Female', 'Female', 'Female', 'Male', 'Female', 'Female', 'Male', 'Female', 'Female', 'Female', 'Male', 'Female', 'Female', 'Female', 'Female', 'Female', 'Female', 'Female', 'Female', 'Male', 'Male', 'Male', 'Female', 'Female', 'Female', 'Male', 'Female', 'Male', 'Male', 'Female', 'Female', 'Male', 'Male', 'Male', 'Male', 'Male', 'Male', 'Female', 'Male', 'Male', 'Female', 'Male', 'Female', 'Male', 'Male', 'Female', 'Female', 'Male', 'Female', 'Male', 'Female', 'Male', 'Female', 'Male', 'Male', 'Male', 'Female', 'Male', 'Female', 'Female', 'Female', 'Male', 'Female', 'Male', 'Male', 'Female', 'Male', 'Female', 'Male', 'Female', 'Male', 'Male', 'Female', 'Female', 'Male', 'Male', 'Male', 'Female', 'Male', 'Male', 'Female', 'Female', 'Male', 'Female', 'Female', 'Female', 'Female', 'Female', 'Female', 'Female', 'Male', 'Female', 'Male', 'Male', 'Male', 'Female', 'Male', 'Male', 'Male', 'Male', 'Male', 'Female', 'Female', 'Female', 'Female', 'Female', 'Male', 'Female', 'Female', 'Female', 'Female', 'Female', 'Female', 'Male', 'Female', 'Male', 'Female', 'Male', 'Male', 'Female', 'Female', 'Female', 'Male', 'Female', 'Female', 'Female', 'Male', 'Male', 'Male', 'Female', 'Male', 'Female', 'Male', 'Female', 'Female', 'Female', 'Female', 'Female', 'Female', 'Female', 'Female', 'Male', 'Male', 'Male', 'Female', 'Male', 'Female', 'Female', 'Female', 'Male', 'Male', 'Male', 'Male', 'Male', 'Male', 'Male', 'Male', 'Male', 'Female', 'Female', 'Female', 'Male', 'Female', 'Female', 'Female', 'Female', 'Female', 'Male', 'Male', 'Male', 'Female', 'Male', 'Male', 'Female', 'Male', 'Female', 'Male', 'Male', 'Female', 'Male', 'Female', 'Male', 'Male', 'Male', 'Male', 'Female', 'Male', 'Male', 'Male', 'Male', 'Male', 'Female', 'Female', 'Male', 'Female', 'Female', 'Male', 'Female', 'Female', 'Male', 'Male', 'Male', 'Female', 'Female', 'Female', 'Female', 'Male', 'Female', 'Male', 'Male', 'Male', 'Female', 'Female', 'Female', 'Female', 'Female', 'Female', 'Male', 'Female', 'Male', 'Female', 'Female', 'Male', 'Male', 'Male', 'Female', 'Female', 'Female', 'Male', 'Female', 'Female', 'Male', 'Female', 'Female', 'Female', 'Female', 'Female', 'Male', 'Male', 'Male', 'Male', 'Male', 'Female', 'Male', 'Female', 'Female', 'Female', 'Female', 'Female', 'Male', 'Female', 'Female', 'Male', 'Male', 'Female', 'Female', 'Female', 'Female', 'Female', 'Male', 'Male', 'Male', 'Female', 'Male', 'Male', 'Female', 'Male', 'Female', 'Female', 'Male', 'Female', 'Female', 'Male', 'Male', 'Male', 'Female', 'Female', 'Male', 'Male', 'Male', 'Male', 'Female', 'Female', 'Female', 'Female', 'Male', 'Female', 'Female', 'Male', 'Male', 'Male', 'Male', 'Male', 'Male', 'Male', 'Male', 'Male', 'Female', 'Female', 'Male', 'Female', 'Female', 'Male', 'Male', 'Male', 'Male', 'Female', 'Male', 'Male', 'Female', 'Female', 'Male', 'Male', 'Female', 'Female', 'Female', 'Female', 'Male', 'Female', 'Female', 'Male', 'Male', 'Male', 'Female', 'Male', 'Female', 'Male', 'Female', 'Female', 'Male', 'Male', 'Male', 'Female', 'Female', 'Female', 'Female', 'Female', 'Female', 'Female', 'Female', 'Female', 'Male', 'Male', 'Male', 'Female', 'Male', 'Male', 'Female', 'Male', 'Female', 'Male', 'Female', 'Female', 'Female', 'Male', 'Male', 'Male', 'Female', 'Female', 'Male', 'Female', 'Male', 'Female', 'Female', 'Male', 'Male', 'Male', 'Female', 'Male', 'Male', 'Male', 'Male', 'Female', 'Male', 'Male', 'Female', 'Female', 'Male', 'Female', 'Female', 'Male', 'Female', 'Female', 'Male', 'Male', 'Male', 'Male', 'Male', 'Female', 'Male', 'Female', 'Female', 'Female', 'Male', 'Female', 'Female', 'Male', 'Female', 'Female', 'Male', 'Male', 'Male', 'Male', 'Female', 'Female', 'Male', 'Male', 'Male', 'Male', 'Male', 'Male', 'Female', 'Male', 'Male', 'Male', 'Female', 'Male', 'Male', 'Male', 'Male', 'Male', 'Male', 'Male', 'Female', 'Female', 'Female', 'Female', 'Male', 'Male', 'Female', 'Female', 'Female', 'Male', 'Female', 'Male', 'Female', 'Male', 'Male', 'Male', 'Male', 'Female', 'Female', 'Female', 'Female', 'Male', 'Male', 'Male', 'Female', 'Female', 'Female', 'Female', 'Female', 'Male', 'Male', 'Male', 'Female', 'Female', 'Male', 'Male', 'Female', 'Male', 'Male', 'Male', 'Female', 'Female', 'Male', 'Male', 'Female', 'Female', 'Female', 'Female', 'Female', 'Female', 'Female', 'Male', 'Male', 'Male', 'Male', 'Male', 'Female', 'Male', 'Female', 'Male', 'Male', 'Male', 'Female', 'Female', 'Male', 'Male', 'Male', 'Male', 'Male', 'Male', 'Male', 'Male', 'Male', 'Female', 'Male', 'Male', 'Female', 'Female', 'Male', 'Female', 'Male', 'Female', 'Male', 'Female', 'Male', 'Female', 'Male', 'Female', 'Male', 'Male', 'Male', 'Female', 'Male', 'Male', 'Female', 'Male', 'Female', 'Female', 'Male', 'Female', 'Female', 'Female', 'Female', 'Female', 'Male', 'Male', 'Male', 'Male', 'Female', 'Male', 'Female', 'Male', 'Male', 'Male', 'Female', 'Male', 'Female', 'Female', 'Male', 'Male', 'Female', 'Female', 'Female', 'Male', 'Female', 'Female', 'Female', 'Male', 'Male', 'Male', 'Female', 'Male', 'Female', 'Male', 'Male', 'Male', 'Female', 'Male', 'Female', 'Female', 'Female', 'Male', 'Female', 'Male', 'Female', 'Female', 'Male', 'Female', 'Male', 'Male', 'Female', 'Male', 'Male', 'Male', 'Male', 'Male', 'Male', 'Female', 'Female', 'Male', 'Male', 'Female', 'Male', 'Female', 'Female', 'Female', 'Female', 'Male', 'Female', 'Female', 'Female', 'Male', 'Female', 'Male', 'Female', 'Female', 'Female', 'Female', 'Male', 'Male', 'Male', 'Male', 'Female', 'Male', 'Female', 'Female', 'Female', 'Female', 'Female', 'Female', 'Female', 'Male', 'Male', 'Female', 'Male', 'Male', 'Male', 'Female', 'Male', 'Male', 'Female', 'Male', 'Male', 'Male', 'Female', 'Female', 'Female', 'Male', 'Male', 'Female', 'Male', 'Female', 'Male', 'Male', 'Female', 'Female', 'Female', 'Female', 'Male', 'Female', 'Male', 'Male', 'Female', 'Female', 'Female', 'Female', 'Female', 'Female', 'Male', 'Male', 'Female', 'Male', 'Female', 'Female', 'Female', 'Female', 'Male', 'Male', 'Male', 'Male', 'Female', 'Male', 'Female', 'Female', 'Female', 'Female', 'Male', 'Male', 'Female', 'Female', 'Male', 'Male', 'Male', 'Female', 'Male', 'Male', 'Male', 'Female', 'Female', 'Male', 'Female', 'Female', 'Female', 'Female', 'Male', 'Female', 'Female', 'Male', 'Male', 'Female', 'Male', 'Male', 'Male', 'Male', 'Male', 'Male', 'Male', 'Female', 'Female', 'Female', 'Male', 'Male', 'Male', 'Female', 'Male', 'Female', 'Female', 'Female', 'Female', 'Female', 'Female', 'Male', 'Female', 'Female', 'Male', 'Female', 'Male', 'Male', 'Female', 'Male', 'Female', 'Male', 'Male', 'Female', 'Male', 'Male', 'Male', 'Male', 'Female', 'Female', 'Male', 'Male', 'Female', 'Male', 'Female', 'Male', 'Male', 'Male', 'Male', 'Male', 'Female', 'Female', 'Female', 'Female', 'Male', 'Male', 'Female', 'Female', 'Female', 'Male', 'Female', 'Female', 'Male', 'Female', 'Female', 'Female', 'Female', 'Female', 'Male', 'Male', 'Male', 'Female', 'Male', 'Male', 'Male', 'Female', 'Female', 'Male', 'Female', 'Female', 'Female', 'Female', 'Male', 'Male', 'Male', 'Female', 'Male', 'Female', 'Male', 'Male', 'Male', 'Female', 'Male', 'Female', 'Female', 'Male', 'Female', 'Male', 'Male', 'Female', 'Male', 'Male', 'Female', 'Female', 'Male', 'Female', 'Male', 'Female', 'Female', 'Female', 'Male', 'Female', 'Female', 'Male', 'Female', 'Male', 'Female', 'Female', 'Male', 'Male', 'Male', 'Male', 'Female', 'Male', 'Male', 'Male', 'Female', 'Female', 'Female', 'Female', 'Male', 'Male', 'Female', 'Female', 'Female', 'Female', 'Male', 'Female', 'Female', 'Female', 'Female', 'Male', 'Female', 'Male', 'Male', 'Female', 'Female', 'Male', 'Male', 'Male', 'Male', 'Male', 'Female', 'Female', 'Female', 'Male', 'Male', 'Male', 'Female', 'Female', 'Female', 'Female', 'Female', 'Female', 'Male', 'Female', 'Male', 'Male', 'Female', 'Female', 'Male', 'Male', 'Male', 'Female', 'Male', 'Female', 'Male', 'Male', 'Male', 'Male', 'Female', 'Male', 'Male', 'Female', 'Female', 'Female', 'Female', 'Female', 'Male', 'Female', 'Male', 'Female', 'Male', 'Male', 'Female', 'Male', 'Male', 'Female', 'Male', 'Female', 'Male', 'Male', 'Female', 'Female', 'Male', 'Female', 'Male', 'Female', 'Female', 'Female', 'Female', 'Male', 'Male', 'Female', 'Male', 'Male', 'Female', 'Female', 'Male', 'Male', 'Male', 'Female', 'Female', 'Female', 'Male', 'Female', 'Female', 'Male', 'Male', 'Male', 'Female', 'Female', 'Male', 'Female', 'Male', 'Male', 'Female', 'Male', 'Male', 'Female', 'Male', 'Male', 'Male', 'Female', 'Female', 'Male', 'Male', 'Female', 'Female', 'Male', 'Male', 'Female', 'Female', 'Male', 'Female', 'Female', 'Male', 'Male', 'Male', 'Female', 'Male', 'Male', 'Male', 'Male', 'Female', 'Male', 'Female', 'Male', 'Male', 'Female', 'Male', 'Male', 'Female', 'Male', 'Female', 'Female', 'Female', 'Female', 'Male', 'Female', 'Female', 'Male', 'Female', 'Male', 'Male', 'Male', 'Female', 'Female', 'Male', 'Male', 'Female', 'Female', 'Female', 'Female', 'Female', 'Female', 'Female', 'Female', 'Female', 'Female', 'Male', 'Female', 'Female', 'Female', 'Male', 'Female', 'Male', 'Female', 'Female', 'Female', 'Male', 'Female', 'Male', 'Male', 'Female', 'Female', 'Female', 'Female', 'Male', 'Male', 'Male', 'Female', 'Male', 'Female', 'Female', 'Male', 'Male', 'Male', 'Female', 'Female', 'Male', 'Male', 'Female', 'Female', 'Female', 'Male', 'Male', 'Male', 'Male', 'Male', 'Male', 'Female', 'Male', 'Female', 'Female', 'Male', 'Female', 'Male', 'Female', 'Male', 'Female', 'Female', 'Female', 'Male', 'Male', 'Female', 'Female', 'Male', 'Male', 'Male', 'Male', 'Female', 'Female', 'Female', 'Male', 'Female', 'Female', 'Female', 'Male', 'Female', 'Female', 'Male', 'Male', 'Male', 'Male', 'Male', 'Female', 'Male', 'Male', 'Female', 'Female', 'Male', 'Female', 'Female', 'Female', 'Female', 'Male', 'Male', 'Female', 'Male', 'Female', 'Male', 'Female', 'Male', 'Male', 'Male', 'Female', 'Female', 'Male', 'Male', 'Female', 'Female', 'Male', 'Male', 'Female', 'Female', 'Female', 'Male', 'Female', 'Male', 'Male', 'Male', 'Female', 'Female', 'Male', 'Male', 'Male', 'Male', 'Male', 'Female', 'Male', 'Female', 'Female', 'Female', 'Male', 'Female', 'Female', 'Male', 'Female', 'Female', 'Male', 'Female', 'Male', 'Female', 'Male', 'Female', 'Female', 'Male', 'Female', 'Male', 'Female', 'Male', 'Female', 'Male', 'Male', 'Female', 'Male', 'Female', 'Male', 'Male', 'Female', 'Female', 'Male', 'Female', 'Female', 'Female', 'Male', 'Male', 'Female', 'Male', 'Female', 'Female', 'Female', 'Male', 'Female', 'Male', 'Male', 'Male', 'Male', 'Female', 'Female', 'Female', 'Male', 'Female', 'Female', 'Male', 'Male', 'Female', 'Male', 'Male', 'Female', 'Male', 'Female', 'Male', 'Female', 'Male', 'Female', 'Female', 'Male', 'Female', 'Female', 'Female', 'Female', 'Female', 'Female', 'Male', 'Female', 'Male', 'Female', 'Female', 'Male', 'Female', 'Male', 'Male', 'Male', 'Male', 'Female', 'Male', 'Male', 'Female', 'Female', 'Female', 'Male', 'Male', 'Female', 'Male', 'Male', 'Male', 'Female', 'Female', 'Male', 'Female', 'Male', 'Male', 'Male', 'Female', 'Male', 'Male', 'Female', 'Female', 'Male', 'Male', 'Female', 'Male', 'Male', 'Male', 'Male', 'Female', 'Female', 'Male', 'Female', 'Female', 'Male', 'Female', 'Female', 'Female', 'Male', 'Female', 'Male', 'Female', 'Male', 'Female', 'Male', 'Male', 'Male', 'Female', 'Female', 'Female', 'Female', 'Female', 'Female', 'Male', 'Female', 'Male', 'Female', 'Female', 'Male', 'Male', 'Male', 'Male', 'Male', 'Male', 'Female', 'Female', 'Male', 'Female', 'Male', 'Male', 'Female', 'Female', 'Male', 'Female', 'Male', 'Female', 'Female', 'Male', 'Female', 'Female', 'Female', 'Female', 'Male']\n",
      "R/E: ['Hispanic', 'Black, non-Hispanic', 'Black, non-Hispanic', 'Black, non-Hispanic', 'White, non-Hispanic', 'White, non-Hispanic', 'Hispanic', 'White, non-Hispanic', 'Black, non-Hispanic', 'Black, non-Hispanic', 'White, non-Hispanic', 'White, non-Hispanic', 'White, non-Hispanic', 'Black, non-Hispanic', 'Black, non-Hispanic', 'White, non-Hispanic', 'White, non-Hispanic', 'White, non-Hispanic', 'White, non-Hispanic', 'White, non-Hispanic', 'White, non-Hispanic', 'White, non-Hispanic', 'Hispanic', 'Hispanic', 'White, non-Hispanic', 'White, non-Hispanic', 'White, non-Hispanic', 'White, non-Hispanic', 'Asian/Pacific Islander', 'White, non-Hispanic', 'White, non-Hispanic', 'White, non-Hispanic', 'Hispanic', 'Native Am/Alaskan Native', 'White, non-Hispanic', 'White, non-Hispanic', 'White, non-Hispanic', 'White, non-Hispanic', 'White, non-Hispanic', 'Black, non-Hispanic', 'White, non-Hispanic', 'Black, non-Hispanic', 'Black, non-Hispanic', 'White, non-Hispanic', 'White, non-Hispanic', 'Black, non-Hispanic', 'Black, non-Hispanic', 'White, non-Hispanic', 'White, non-Hispanic', 'White, non-Hispanic', 'Black, non-Hispanic', 'White, non-Hispanic', 'Black, non-Hispanic', 'Hispanic', 'White, non-Hispanic', 'White, non-Hispanic', 'Black, non-Hispanic', 'White, non-Hispanic', 'Black, non-Hispanic', 'White, non-Hispanic', 'White, non-Hispanic', 'White, non-Hispanic', 'White, non-Hispanic', 'Black, non-Hispanic', 'White, non-Hispanic', 'White, non-Hispanic', 'White, non-Hispanic', 'Black, non-Hispanic', 'Native Am/Alaskan Native', 'Black, non-Hispanic', 'White, non-Hispanic', 'White, non-Hispanic', 'Asian/Pacific Islander', 'Hispanic', 'White, non-Hispanic', 'White, non-Hispanic', 'White, non-Hispanic', 'Black, non-Hispanic', 'White, non-Hispanic', 'White, non-Hispanic', 'White, non-Hispanic', 'Black, non-Hispanic', 'White, non-Hispanic', 'Black, non-Hispanic', 'Asian/Pacific Islander', 'White, non-Hispanic', 'White, non-Hispanic', 'White, non-Hispanic', 'White, non-Hispanic', 'White, non-Hispanic', 'Hispanic', 'Black, non-Hispanic', 'White, non-Hispanic', 'Black, non-Hispanic', 'White, non-Hispanic', 'Hispanic', 'White, non-Hispanic', 'White, non-Hispanic', 'Black, non-Hispanic', 'White, non-Hispanic', 'Native Am/Alaskan Native', 'White, non-Hispanic', 'White, non-Hispanic', 'Black, non-Hispanic', 'White, non-Hispanic', 'White, non-Hispanic', 'White, non-Hispanic', 'White, non-Hispanic', 'White, non-Hispanic', 'Black, non-Hispanic', 'Black, non-Hispanic', 'White, non-Hispanic', 'Black, non-Hispanic', 'White, non-Hispanic', 'White, non-Hispanic', 'Black, non-Hispanic', 'White, non-Hispanic', 'Asian/Pacific Islander', 'White, non-Hispanic', 'White, non-Hispanic', 'White, non-Hispanic', 'Black, non-Hispanic', 'Hispanic', 'Black, non-Hispanic', 'Black, non-Hispanic', 'White, non-Hispanic', 'White, non-Hispanic', 'White, non-Hispanic', 'Black, non-Hispanic', 'White, non-Hispanic', 'White, non-Hispanic', 'White, non-Hispanic', 'White, non-Hispanic', 'Black, non-Hispanic', 'White, non-Hispanic', 'Hispanic', 'White, non-Hispanic', 'White, non-Hispanic', 'Native Am/Alaskan Native', 'White, non-Hispanic', 'White, non-Hispanic', 'Hispanic', 'White, non-Hispanic', 'Hispanic', 'Black, non-Hispanic', 'White, non-Hispanic', 'White, non-Hispanic', 'White, non-Hispanic', 'White, non-Hispanic', 'White, non-Hispanic', 'White, non-Hispanic', 'Black, non-Hispanic', 'White, non-Hispanic', 'White, non-Hispanic', 'White, non-Hispanic', 'White, non-Hispanic', 'White, non-Hispanic', 'White, non-Hispanic', 'White, non-Hispanic', 'Black, non-Hispanic', 'White, non-Hispanic', 'Asian/Pacific Islander', 'White, non-Hispanic', 'White, non-Hispanic', 'Black, non-Hispanic', 'Black, non-Hispanic', 'White, non-Hispanic', 'White, non-Hispanic', 'White, non-Hispanic', 'White, non-Hispanic', 'White, non-Hispanic', 'White, non-Hispanic', 'White, non-Hispanic', 'White, non-Hispanic', 'White, non-Hispanic', 'White, non-Hispanic', 'White, non-Hispanic', 'White, non-Hispanic', 'White, non-Hispanic', 'Hispanic', 'White, non-Hispanic', 'Black, non-Hispanic', 'White, non-Hispanic', 'White, non-Hispanic', 'White, non-Hispanic', 'Black, non-Hispanic', 'White, non-Hispanic', 'White, non-Hispanic', 'White, non-Hispanic', 'Black, non-Hispanic', 'White, non-Hispanic', 'Hispanic', 'Hispanic', 'White, non-Hispanic', 'White, non-Hispanic', 'White, non-Hispanic', 'Hispanic', 'White, non-Hispanic', 'White, non-Hispanic', 'White, non-Hispanic', 'White, non-Hispanic', 'Black, non-Hispanic', 'Black, non-Hispanic', 'Black, non-Hispanic', 'White, non-Hispanic', 'Hispanic', 'White, non-Hispanic', 'Hispanic', 'White, non-Hispanic', 'White, non-Hispanic', 'White, non-Hispanic', 'White, non-Hispanic', 'White, non-Hispanic', 'Asian/Pacific Islander', 'Black, non-Hispanic', 'White, non-Hispanic', 'White, non-Hispanic', 'Hispanic', 'White, non-Hispanic', 'White, non-Hispanic', 'Black, non-Hispanic', 'White, non-Hispanic', 'Hispanic', 'White, non-Hispanic', 'White, non-Hispanic', 'Black, non-Hispanic', 'Black, non-Hispanic', 'White, non-Hispanic', 'Black, non-Hispanic', 'White, non-Hispanic', 'Asian/Pacific Islander', 'White, non-Hispanic', 'White, non-Hispanic', 'White, non-Hispanic', 'Hispanic', 'White, non-Hispanic', 'White, non-Hispanic', 'White, non-Hispanic', 'White, non-Hispanic', 'White, non-Hispanic', 'White, non-Hispanic', 'White, non-Hispanic', 'White, non-Hispanic', 'White, non-Hispanic', 'White, non-Hispanic', 'Black, non-Hispanic', 'White, non-Hispanic', 'Black, non-Hispanic', 'Black, non-Hispanic', 'White, non-Hispanic', 'White, non-Hispanic', 'Black, non-Hispanic', 'White, non-Hispanic', 'Hispanic', 'White, non-Hispanic', 'Black, non-Hispanic', 'White, non-Hispanic', 'White, non-Hispanic', 'Hispanic', 'White, non-Hispanic', 'White, non-Hispanic', 'White, non-Hispanic', 'Hispanic', 'White, non-Hispanic', 'White, non-Hispanic', 'Hispanic', 'White, non-Hispanic', 'White, non-Hispanic', 'White, non-Hispanic', 'White, non-Hispanic', 'White, non-Hispanic', 'Black, non-Hispanic', 'White, non-Hispanic', 'White, non-Hispanic', 'Black, non-Hispanic', 'White, non-Hispanic', 'Black, non-Hispanic', 'White, non-Hispanic', 'White, non-Hispanic', 'Black, non-Hispanic', 'White, non-Hispanic', 'White, non-Hispanic', 'White, non-Hispanic', 'White, non-Hispanic', 'White, non-Hispanic', 'Black, non-Hispanic', 'White, non-Hispanic', 'Asian/Pacific Islander', 'Black, non-Hispanic', 'White, non-Hispanic', 'Black, non-Hispanic', 'White, non-Hispanic', 'Native Am/Alaskan Native', 'White, non-Hispanic', 'White, non-Hispanic', 'White, non-Hispanic', 'White, non-Hispanic', 'White, non-Hispanic', 'Black, non-Hispanic', 'White, non-Hispanic', 'Black, non-Hispanic', 'Black, non-Hispanic', 'Black, non-Hispanic', 'White, non-Hispanic', 'Black, non-Hispanic', 'White, non-Hispanic', 'Black, non-Hispanic', 'White, non-Hispanic', 'White, non-Hispanic', 'Black, non-Hispanic', 'White, non-Hispanic', 'White, non-Hispanic', 'Black, non-Hispanic', 'White, non-Hispanic', 'White, non-Hispanic', 'White, non-Hispanic', 'White, non-Hispanic', 'White, non-Hispanic', 'White, non-Hispanic', 'White, non-Hispanic', 'Native Am/Alaskan Native', 'White, non-Hispanic', 'White, non-Hispanic', 'White, non-Hispanic', 'Black, non-Hispanic', 'White, non-Hispanic', 'White, non-Hispanic', 'Black, non-Hispanic', 'White, non-Hispanic', 'White, non-Hispanic', 'White, non-Hispanic', 'White, non-Hispanic', 'Black, non-Hispanic', 'White, non-Hispanic', 'White, non-Hispanic', 'Hispanic', 'White, non-Hispanic', 'White, non-Hispanic', 'White, non-Hispanic', 'Native Am/Alaskan Native', 'White, non-Hispanic', 'White, non-Hispanic', 'Black, non-Hispanic', 'Black, non-Hispanic', 'Black, non-Hispanic', 'White, non-Hispanic', 'White, non-Hispanic', 'White, non-Hispanic', 'Black, non-Hispanic', 'White, non-Hispanic', 'Hispanic', 'Black, non-Hispanic', 'White, non-Hispanic', 'Black, non-Hispanic', 'Asian/Pacific Islander', 'White, non-Hispanic', 'White, non-Hispanic', 'Black, non-Hispanic', 'White, non-Hispanic', 'White, non-Hispanic', 'White, non-Hispanic', 'White, non-Hispanic', 'Black, non-Hispanic', 'White, non-Hispanic', 'White, non-Hispanic', 'White, non-Hispanic', 'White, non-Hispanic', 'White, non-Hispanic', 'Black, non-Hispanic', 'Black, non-Hispanic', 'White, non-Hispanic', 'White, non-Hispanic', 'White, non-Hispanic', 'White, non-Hispanic', 'White, non-Hispanic', 'White, non-Hispanic', 'White, non-Hispanic', 'White, non-Hispanic', 'White, non-Hispanic', 'White, non-Hispanic', 'Black, non-Hispanic', 'Asian/Pacific Islander', 'White, non-Hispanic', 'White, non-Hispanic', 'Black, non-Hispanic', 'White, non-Hispanic', 'Black, non-Hispanic', 'Black, non-Hispanic', 'Black, non-Hispanic', 'White, non-Hispanic', 'White, non-Hispanic', 'White, non-Hispanic', 'White, non-Hispanic', 'Black, non-Hispanic', 'White, non-Hispanic', 'White, non-Hispanic', 'Black, non-Hispanic', 'White, non-Hispanic', 'White, non-Hispanic', 'White, non-Hispanic', 'White, non-Hispanic', 'White, non-Hispanic', 'White, non-Hispanic', 'White, non-Hispanic', 'Black, non-Hispanic', 'Hispanic', 'White, non-Hispanic', 'White, non-Hispanic', 'White, non-Hispanic', 'White, non-Hispanic', 'White, non-Hispanic', 'Black, non-Hispanic', 'White, non-Hispanic', 'White, non-Hispanic', 'White, non-Hispanic', 'White, non-Hispanic', 'White, non-Hispanic', 'White, non-Hispanic', 'White, non-Hispanic', 'Hispanic', 'Hispanic', 'White, non-Hispanic', 'White, non-Hispanic', 'White, non-Hispanic', 'White, non-Hispanic', 'White, non-Hispanic', 'White, non-Hispanic', 'White, non-Hispanic', 'White, non-Hispanic', 'White, non-Hispanic', 'Asian/Pacific Islander', 'Asian/Pacific Islander', 'White, non-Hispanic', 'White, non-Hispanic', 'White, non-Hispanic', 'White, non-Hispanic', 'White, non-Hispanic', 'White, non-Hispanic', 'Hispanic', 'Hispanic', 'White, non-Hispanic', 'White, non-Hispanic', 'Black, non-Hispanic', 'White, non-Hispanic', 'White, non-Hispanic', 'White, non-Hispanic', 'White, non-Hispanic', 'White, non-Hispanic', 'Black, non-Hispanic', 'White, non-Hispanic', 'White, non-Hispanic', 'White, non-Hispanic', 'White, non-Hispanic', 'White, non-Hispanic', 'White, non-Hispanic', 'White, non-Hispanic', 'White, non-Hispanic', 'White, non-Hispanic', 'White, non-Hispanic', 'White, non-Hispanic', 'White, non-Hispanic', 'White, non-Hispanic', 'Hispanic', 'Hispanic', 'White, non-Hispanic', 'White, non-Hispanic', 'White, non-Hispanic', 'Black, non-Hispanic', 'White, non-Hispanic', 'White, non-Hispanic', 'Black, non-Hispanic', 'White, non-Hispanic', 'White, non-Hispanic', 'White, non-Hispanic', 'White, non-Hispanic', 'White, non-Hispanic', 'White, non-Hispanic', 'White, non-Hispanic', 'White, non-Hispanic', 'White, non-Hispanic', 'White, non-Hispanic', 'Hispanic', 'White, non-Hispanic', 'White, non-Hispanic', 'Black, non-Hispanic', 'White, non-Hispanic', 'Black, non-Hispanic', 'Hispanic', 'White, non-Hispanic', 'White, non-Hispanic', 'Black, non-Hispanic', 'White, non-Hispanic', 'White, non-Hispanic', 'White, non-Hispanic', 'White, non-Hispanic', 'Black, non-Hispanic', 'White, non-Hispanic', 'White, non-Hispanic', 'White, non-Hispanic', 'Black, non-Hispanic', 'White, non-Hispanic', 'White, non-Hispanic', 'White, non-Hispanic', 'White, non-Hispanic', 'White, non-Hispanic', 'White, non-Hispanic', 'White, non-Hispanic', 'Black, non-Hispanic', 'White, non-Hispanic', 'Black, non-Hispanic', 'White, non-Hispanic', 'White, non-Hispanic', 'White, non-Hispanic', 'Hispanic', 'White, non-Hispanic', 'White, non-Hispanic', 'White, non-Hispanic', 'Hispanic', 'White, non-Hispanic', 'Black, non-Hispanic', 'Black, non-Hispanic', 'White, non-Hispanic', 'White, non-Hispanic', 'Hispanic', 'Black, non-Hispanic', 'White, non-Hispanic', 'White, non-Hispanic', 'White, non-Hispanic', 'White, non-Hispanic', 'White, non-Hispanic', 'White, non-Hispanic', 'White, non-Hispanic', 'Hispanic', 'Black, non-Hispanic', 'Black, non-Hispanic', 'Hispanic', 'White, non-Hispanic', 'White, non-Hispanic', 'Asian/Pacific Islander', 'White, non-Hispanic', 'White, non-Hispanic', 'White, non-Hispanic', 'White, non-Hispanic', 'White, non-Hispanic', 'White, non-Hispanic', 'White, non-Hispanic', 'White, non-Hispanic', 'White, non-Hispanic', 'White, non-Hispanic', 'Hispanic', 'White, non-Hispanic', 'White, non-Hispanic', 'White, non-Hispanic', 'White, non-Hispanic', 'White, non-Hispanic', 'White, non-Hispanic', 'White, non-Hispanic', 'White, non-Hispanic', 'White, non-Hispanic', 'White, non-Hispanic', 'White, non-Hispanic', 'White, non-Hispanic', 'White, non-Hispanic', 'White, non-Hispanic', 'Black, non-Hispanic', 'White, non-Hispanic', 'White, non-Hispanic', 'Black, non-Hispanic', 'White, non-Hispanic', 'Black, non-Hispanic', 'White, non-Hispanic', 'Black, non-Hispanic', 'White, non-Hispanic', 'White, non-Hispanic', 'Black, non-Hispanic', 'White, non-Hispanic', 'White, non-Hispanic', 'Black, non-Hispanic', 'Black, non-Hispanic', 'Black, non-Hispanic', 'White, non-Hispanic', 'Black, non-Hispanic', 'White, non-Hispanic', 'Black, non-Hispanic', 'White, non-Hispanic', 'Black, non-Hispanic', 'Black, non-Hispanic', 'White, non-Hispanic', 'White, non-Hispanic', 'White, non-Hispanic', 'Black, non-Hispanic', 'White, non-Hispanic', 'White, non-Hispanic', 'White, non-Hispanic', 'White, non-Hispanic', 'White, non-Hispanic', 'Black, non-Hispanic', 'Black, non-Hispanic', 'White, non-Hispanic', 'Black, non-Hispanic', 'White, non-Hispanic', 'Black, non-Hispanic', 'Black, non-Hispanic', 'White, non-Hispanic', 'White, non-Hispanic', 'White, non-Hispanic', 'White, non-Hispanic', 'White, non-Hispanic', 'Black, non-Hispanic', 'Hispanic', 'Hispanic', 'White, non-Hispanic', 'White, non-Hispanic', 'White, non-Hispanic', 'Black, non-Hispanic', 'Black, non-Hispanic', 'White, non-Hispanic', 'Black, non-Hispanic', 'White, non-Hispanic', 'Black, non-Hispanic', 'White, non-Hispanic', 'White, non-Hispanic', 'Black, non-Hispanic', 'Hispanic', 'White, non-Hispanic', 'Black, non-Hispanic', 'White, non-Hispanic', 'White, non-Hispanic', 'Black, non-Hispanic', 'White, non-Hispanic', 'Black, non-Hispanic', 'White, non-Hispanic', 'Hispanic', 'White, non-Hispanic', 'Black, non-Hispanic', 'Black, non-Hispanic', 'White, non-Hispanic', 'White, non-Hispanic', 'Hispanic', 'White, non-Hispanic', 'Black, non-Hispanic', 'Black, non-Hispanic', 'White, non-Hispanic', 'White, non-Hispanic', 'Black, non-Hispanic', 'White, non-Hispanic', 'White, non-Hispanic', 'White, non-Hispanic', 'Hispanic', 'White, non-Hispanic', 'White, non-Hispanic', 'White, non-Hispanic', 'White, non-Hispanic', 'Black, non-Hispanic', 'White, non-Hispanic', 'White, non-Hispanic', 'Black, non-Hispanic', 'Hispanic', 'Black, non-Hispanic', 'Hispanic', 'White, non-Hispanic', 'White, non-Hispanic', 'White, non-Hispanic', 'White, non-Hispanic', 'White, non-Hispanic', 'White, non-Hispanic', 'White, non-Hispanic', 'White, non-Hispanic', 'White, non-Hispanic', 'White, non-Hispanic', 'White, non-Hispanic', 'White, non-Hispanic', 'White, non-Hispanic', 'White, non-Hispanic', 'Black, non-Hispanic', 'White, non-Hispanic', 'White, non-Hispanic', 'White, non-Hispanic', 'White, non-Hispanic', 'White, non-Hispanic', 'Black, non-Hispanic', 'White, non-Hispanic', 'White, non-Hispanic', 'White, non-Hispanic', 'White, non-Hispanic', 'White, non-Hispanic', 'Black, non-Hispanic', 'White, non-Hispanic', 'White, non-Hispanic', 'White, non-Hispanic', 'White, non-Hispanic', 'White, non-Hispanic', 'White, non-Hispanic', 'White, non-Hispanic', 'White, non-Hispanic', 'White, non-Hispanic', 'White, non-Hispanic', 'White, non-Hispanic', 'White, non-Hispanic', 'White, non-Hispanic', 'Black, non-Hispanic', 'White, non-Hispanic', 'Black, non-Hispanic', 'White, non-Hispanic', 'White, non-Hispanic', 'White, non-Hispanic', 'White, non-Hispanic', 'White, non-Hispanic', 'Black, non-Hispanic', 'White, non-Hispanic', 'Black, non-Hispanic', 'White, non-Hispanic', 'White, non-Hispanic', 'White, non-Hispanic', 'White, non-Hispanic', 'Black, non-Hispanic', 'Black, non-Hispanic', 'White, non-Hispanic', 'White, non-Hispanic', 'Black, non-Hispanic', 'White, non-Hispanic', 'White, non-Hispanic', 'White, non-Hispanic', 'Black, non-Hispanic', 'Black, non-Hispanic', 'White, non-Hispanic', 'White, non-Hispanic', 'White, non-Hispanic', 'Black, non-Hispanic', 'Black, non-Hispanic', 'Black, non-Hispanic', 'White, non-Hispanic', 'White, non-Hispanic', 'White, non-Hispanic', 'White, non-Hispanic', 'Black, non-Hispanic', 'White, non-Hispanic', 'White, non-Hispanic', 'White, non-Hispanic', 'White, non-Hispanic', 'White, non-Hispanic', 'White, non-Hispanic', 'White, non-Hispanic', 'White, non-Hispanic', 'White, non-Hispanic', 'White, non-Hispanic', 'White, non-Hispanic', 'White, non-Hispanic', 'White, non-Hispanic', 'White, non-Hispanic', 'White, non-Hispanic', 'Black, non-Hispanic', 'White, non-Hispanic', 'White, non-Hispanic', 'White, non-Hispanic', 'White, non-Hispanic', 'White, non-Hispanic', 'White, non-Hispanic', 'White, non-Hispanic', 'White, non-Hispanic', 'White, non-Hispanic', 'Black, non-Hispanic', 'White, non-Hispanic', 'Black, non-Hispanic', 'White, non-Hispanic', 'White, non-Hispanic', 'White, non-Hispanic', 'White, non-Hispanic', 'Black, non-Hispanic', 'White, non-Hispanic', 'White, non-Hispanic', 'White, non-Hispanic', 'White, non-Hispanic', 'White, non-Hispanic', 'White, non-Hispanic', 'Black, non-Hispanic', 'Black, non-Hispanic', 'White, non-Hispanic', 'Black, non-Hispanic', 'White, non-Hispanic', 'White, non-Hispanic', 'White, non-Hispanic', 'White, non-Hispanic', 'White, non-Hispanic', 'Black, non-Hispanic', 'Black, non-Hispanic', 'White, non-Hispanic', 'Black, non-Hispanic', 'White, non-Hispanic', 'Black, non-Hispanic', 'Black, non-Hispanic', 'Black, non-Hispanic', 'Black, non-Hispanic', 'White, non-Hispanic', 'White, non-Hispanic', 'White, non-Hispanic', 'White, non-Hispanic', 'White, non-Hispanic', 'Black, non-Hispanic', 'White, non-Hispanic', 'White, non-Hispanic', 'White, non-Hispanic', 'White, non-Hispanic', 'White, non-Hispanic', 'White, non-Hispanic', 'White, non-Hispanic', 'White, non-Hispanic', 'White, non-Hispanic', 'White, non-Hispanic', 'White, non-Hispanic', 'White, non-Hispanic', 'White, non-Hispanic', 'White, non-Hispanic', 'White, non-Hispanic', 'White, non-Hispanic', 'White, non-Hispanic', 'White, non-Hispanic', 'White, non-Hispanic', 'White, non-Hispanic', 'White, non-Hispanic', 'White, non-Hispanic', 'White, non-Hispanic', 'White, non-Hispanic', 'White, non-Hispanic', 'White, non-Hispanic', 'White, non-Hispanic', 'White, non-Hispanic', 'Hispanic', 'Hispanic', 'White, non-Hispanic', 'Hispanic', 'White, non-Hispanic', 'Hispanic', 'White, non-Hispanic', 'Native Am/Alaskan Native', 'White, non-Hispanic', 'Hispanic', 'White, non-Hispanic', 'Native Am/Alaskan Native', 'White, non-Hispanic', 'Hispanic', 'White, non-Hispanic', 'White, non-Hispanic', 'White, non-Hispanic', 'White, non-Hispanic', 'White, non-Hispanic', 'Hispanic', 'White, non-Hispanic', 'Hispanic', 'White, non-Hispanic', 'White, non-Hispanic', 'White, non-Hispanic', 'Hispanic', 'White, non-Hispanic', 'White, non-Hispanic', 'Hispanic', 'Hispanic', 'Hispanic', 'White, non-Hispanic', 'White, non-Hispanic', 'White, non-Hispanic', 'White, non-Hispanic', 'White, non-Hispanic', 'White, non-Hispanic', 'White, non-Hispanic', 'White, non-Hispanic', 'White, non-Hispanic', 'White, non-Hispanic', 'White, non-Hispanic', 'White, non-Hispanic', 'White, non-Hispanic', 'White, non-Hispanic', 'White, non-Hispanic', 'White, non-Hispanic', 'White, non-Hispanic', 'White, non-Hispanic', 'Black, non-Hispanic', 'White, non-Hispanic', 'White, non-Hispanic', 'White, non-Hispanic', 'White, non-Hispanic', 'White, non-Hispanic', 'White, non-Hispanic', 'White, non-Hispanic', 'White, non-Hispanic', 'White, non-Hispanic', 'White, non-Hispanic', 'White, non-Hispanic', 'White, non-Hispanic', 'White, non-Hispanic', 'White, non-Hispanic', 'White, non-Hispanic', 'White, non-Hispanic', 'White, non-Hispanic', 'White, non-Hispanic', 'White, non-Hispanic', 'White, non-Hispanic', 'White, non-Hispanic', 'White, non-Hispanic', 'White, non-Hispanic', 'White, non-Hispanic', 'White, non-Hispanic', 'White, non-Hispanic', 'White, non-Hispanic', 'White, non-Hispanic', 'Black, non-Hispanic', 'Hispanic', 'White, non-Hispanic', 'White, non-Hispanic', 'Hispanic', 'White, non-Hispanic', 'Black, non-Hispanic', 'White, non-Hispanic', 'White, non-Hispanic', 'White, non-Hispanic', 'White, non-Hispanic', 'White, non-Hispanic', 'White, non-Hispanic', 'White, non-Hispanic', 'White, non-Hispanic', 'White, non-Hispanic', 'White, non-Hispanic', 'White, non-Hispanic', 'White, non-Hispanic', 'White, non-Hispanic', 'White, non-Hispanic', 'Black, non-Hispanic', 'Hispanic', 'Hispanic', 'White, non-Hispanic', 'White, non-Hispanic', 'White, non-Hispanic', 'White, non-Hispanic', 'White, non-Hispanic', 'Black, non-Hispanic', 'White, non-Hispanic', 'Black, non-Hispanic', 'White, non-Hispanic', 'White, non-Hispanic', 'White, non-Hispanic', 'White, non-Hispanic', 'White, non-Hispanic', 'White, non-Hispanic', 'White, non-Hispanic', 'Black, non-Hispanic', 'White, non-Hispanic', 'White, non-Hispanic', 'Black, non-Hispanic', 'White, non-Hispanic', 'White, non-Hispanic', 'White, non-Hispanic', 'Black, non-Hispanic', 'White, non-Hispanic', 'Black, non-Hispanic', 'White, non-Hispanic', 'Black, non-Hispanic', 'White, non-Hispanic', 'White, non-Hispanic', 'White, non-Hispanic', 'White, non-Hispanic', 'White, non-Hispanic', 'White, non-Hispanic', 'White, non-Hispanic', 'White, non-Hispanic', 'White, non-Hispanic', 'White, non-Hispanic', 'White, non-Hispanic', 'White, non-Hispanic', 'White, non-Hispanic', 'White, non-Hispanic', 'White, non-Hispanic', 'White, non-Hispanic', 'White, non-Hispanic', 'White, non-Hispanic', 'Black, non-Hispanic', 'Black, non-Hispanic', 'White, non-Hispanic', 'White, non-Hispanic', 'Black, non-Hispanic', 'White, non-Hispanic', 'White, non-Hispanic', 'Black, non-Hispanic', 'White, non-Hispanic', 'White, non-Hispanic', 'White, non-Hispanic', 'Black, non-Hispanic', 'White, non-Hispanic', 'Black, non-Hispanic', 'Hispanic', 'Black, non-Hispanic', 'Black, non-Hispanic', 'White, non-Hispanic', 'White, non-Hispanic', 'White, non-Hispanic', 'Hispanic', 'White, non-Hispanic', 'Black, non-Hispanic', 'White, non-Hispanic', 'White, non-Hispanic', 'White, non-Hispanic', 'Black, non-Hispanic', 'Hispanic', 'White, non-Hispanic', 'White, non-Hispanic', 'White, non-Hispanic', 'White, non-Hispanic', 'White, non-Hispanic', 'White, non-Hispanic', 'White, non-Hispanic', 'White, non-Hispanic', 'Hispanic', 'Hispanic', 'Hispanic', 'White, non-Hispanic', 'White, non-Hispanic', 'Hispanic', 'White, non-Hispanic', 'Hispanic', 'White, non-Hispanic', 'Hispanic', 'Hispanic', 'Hispanic', 'Black, non-Hispanic', 'White, non-Hispanic', 'White, non-Hispanic', 'White, non-Hispanic', 'White, non-Hispanic', 'Hispanic', 'White, non-Hispanic', 'Black, non-Hispanic', 'White, non-Hispanic', 'Black, non-Hispanic', 'White, non-Hispanic', 'White, non-Hispanic', 'White, non-Hispanic', 'Black, non-Hispanic', 'White, non-Hispanic', 'White, non-Hispanic', 'Black, non-Hispanic', 'White, non-Hispanic', 'White, non-Hispanic', 'White, non-Hispanic', 'Black, non-Hispanic', 'White, non-Hispanic', 'White, non-Hispanic', 'Black, non-Hispanic', 'White, non-Hispanic', 'White, non-Hispanic', 'White, non-Hispanic', 'White, non-Hispanic', 'White, non-Hispanic', 'White, non-Hispanic', 'White, non-Hispanic', 'White, non-Hispanic', 'White, non-Hispanic', 'White, non-Hispanic', 'White, non-Hispanic', 'White, non-Hispanic', 'White, non-Hispanic', 'White, non-Hispanic', 'White, non-Hispanic', 'White, non-Hispanic', 'White, non-Hispanic', 'White, non-Hispanic', 'White, non-Hispanic', 'White, non-Hispanic', 'White, non-Hispanic', 'White, non-Hispanic', 'White, non-Hispanic', 'White, non-Hispanic', 'White, non-Hispanic']\n"
     ]
    }
   ],
   "source": [
    "# Define lists to hold filtered values\n",
    "Gender = []\n",
    "Race_Ethnicity = []\n",
    "\n",
    "\n",
    "# Loop through the DataFrame and filter values based on criteria\n",
    "for value in filtered_Alz_Data['Gender/Race/Ethnicity']:\n",
    "    value = value\n",
    "    \n",
    "    # Append to the respective lists based on the criteria\n",
    "    if value == 'Male':\n",
    "        Gender.append(value)\n",
    "    elif value == 'Female':\n",
    "        Gender.append(value)\n",
    "    \n",
    "    if value == 'Asian':\n",
    "        Race_Ethnicity.append(value)\n",
    "    elif value == 'Hispanic':\n",
    "        Race_Ethnicity.append(value)\n",
    "    elif value == 'Black, non-Hispanic':\n",
    "        Race_Ethnicity.append(value)\n",
    "    elif value == 'White, non-Hispanic':\n",
    "        Race_Ethnicity.append(value)\n",
    "    elif value == 'Native Am/Alaskan Native':\n",
    "        Race_Ethnicity.append(value)\n",
    "    elif value == 'Asian/Pacific Islander':\n",
    "        Race_Ethnicity.append(value)\n",
    "\n",
    "# Print the filtered lists\n",
    "print(\"Gender:\", Gender)\n",
    "print(\"R/E:\", Race_Ethnicity)"
   ]
  },
  {
   "cell_type": "code",
<<<<<<< HEAD
<<<<<<< HEAD
<<<<<<< HEAD:Project-3/starter code/Alzheimer_HealthyAgingData.ipynb
   "execution_count": 13,
=======
   "execution_count": 220,
>>>>>>> 8983b2b5fff96ebc161d4ce459d33a131b93afb5:Alzheimer_HealthyAgingData.ipynb
=======
   "execution_count": 55,
>>>>>>> parent of c51138a (updates to starter code)
=======
   "execution_count": 55,
>>>>>>> parent of c51138a (updates to starter code)
   "metadata": {},
   "outputs": [
    {
     "name": "stdout",
     "output_type": "stream",
     "text": [
      "<class 'pandas.core.frame.DataFrame'>\n",
      "Index: 2854 entries, 183 to 283976\n",
      "Data columns (total 12 columns):\n",
      " #   Column                 Non-Null Count  Dtype  \n",
      "---  ------                 --------------  -----  \n",
      " 0   YearStart              2854 non-null   int64  \n",
      " 1   YearEnd                2854 non-null   int64  \n",
      " 2   LocationAbbr           2854 non-null   object \n",
      " 3   Class                  2854 non-null   object \n",
      " 4   Topic                  2854 non-null   object \n",
      " 5   Data_Value_Unit        2854 non-null   object \n",
      " 6   Data_Value(%)          2854 non-null   float64\n",
      " 7   Age Group              2854 non-null   object \n",
      " 8   Gender/Race/Ethnicity  2854 non-null   object \n",
      " 9   Geolocation            2854 non-null   object \n",
      " 10  Gender                 0 non-null      float64\n",
      " 11  Race/Ethnicity         0 non-null      float64\n",
      "dtypes: float64(3), int64(2), object(7)\n",
      "memory usage: 289.9+ KB\n",
      "None\n"
     ]
    }
   ],
   "source": [
    "filtered_Alz_Data.dropna()\n",
    "\n",
    "filtered_Alz_Data.head()\n",
    "\n",
    "print(filtered_Alz_Data.info())"
   ]
  },
  {
   "cell_type": "code",
<<<<<<< HEAD
<<<<<<< HEAD
<<<<<<< HEAD:Project-3/starter code/Alzheimer_HealthyAgingData.ipynb
   "execution_count": 14,
=======
   "execution_count": 221,
>>>>>>> 8983b2b5fff96ebc161d4ce459d33a131b93afb5:Alzheimer_HealthyAgingData.ipynb
=======
   "execution_count": 56,
>>>>>>> parent of c51138a (updates to starter code)
=======
   "execution_count": 56,
>>>>>>> parent of c51138a (updates to starter code)
   "metadata": {},
   "outputs": [
    {
     "name": "stdout",
     "output_type": "stream",
     "text": [
      "Length of filtered_Alz_Data: 2854\n",
      "Length of Gender: 1783\n",
      "Length of Race_Ethnicity: 1071\n"
     ]
    }
   ],
   "source": [
    "print(\"Length of filtered_Alz_Data:\", len(filtered_Alz_Data))\n",
    "print(\"Length of Gender:\", len(Gender))\n",
    "print(\"Length of Race_Ethnicity:\", len(Race_Ethnicity))\n"
   ]
  },
  {
   "cell_type": "code",
<<<<<<< HEAD
<<<<<<< HEAD
<<<<<<< HEAD:Project-3/starter code/Alzheimer_HealthyAgingData.ipynb
   "execution_count": 15,
=======
   "execution_count": 222,
>>>>>>> 8983b2b5fff96ebc161d4ce459d33a131b93afb5:Alzheimer_HealthyAgingData.ipynb
=======
   "execution_count": 57,
>>>>>>> parent of c51138a (updates to starter code)
=======
   "execution_count": 57,
>>>>>>> parent of c51138a (updates to starter code)
   "metadata": {},
   "outputs": [
    {
     "data": {
      "text/html": [
       "<div>\n",
       "<style scoped>\n",
       "    .dataframe tbody tr th:only-of-type {\n",
       "        vertical-align: middle;\n",
       "    }\n",
       "\n",
       "    .dataframe tbody tr th {\n",
       "        vertical-align: top;\n",
       "    }\n",
       "\n",
       "    .dataframe thead th {\n",
       "        text-align: right;\n",
       "    }\n",
       "</style>\n",
       "<table border=\"1\" class=\"dataframe\">\n",
       "  <thead>\n",
       "    <tr style=\"text-align: right;\">\n",
       "      <th></th>\n",
       "      <th>YearStart</th>\n",
       "      <th>YearEnd</th>\n",
       "      <th>LocationAbbr</th>\n",
       "      <th>Class</th>\n",
       "      <th>Topic</th>\n",
       "      <th>Data_Value_Unit</th>\n",
       "      <th>Data_Value(%)</th>\n",
       "      <th>Age Group</th>\n",
       "      <th>Geolocation</th>\n",
       "      <th>Gender</th>\n",
       "      <th>Race/Ethnicity</th>\n",
       "    </tr>\n",
       "  </thead>\n",
       "  <tbody>\n",
       "    <tr>\n",
       "      <th>183</th>\n",
       "      <td>2019</td>\n",
       "      <td>2022</td>\n",
       "      <td>NY</td>\n",
       "      <td>Cognitive Decline</td>\n",
       "      <td>Subjective cognitive decline or memory loss am...</td>\n",
       "      <td>%</td>\n",
       "      <td>13.8</td>\n",
       "      <td>50-64 years</td>\n",
       "      <td>POINT (-75.54397043 42.82700103)</td>\n",
       "      <td>--</td>\n",
       "      <td>Hispanic</td>\n",
       "    </tr>\n",
       "    <tr>\n",
       "      <th>185</th>\n",
       "      <td>2019</td>\n",
       "      <td>2022</td>\n",
       "      <td>WA</td>\n",
       "      <td>Cognitive Decline</td>\n",
       "      <td>Subjective cognitive decline or memory loss am...</td>\n",
       "      <td>%</td>\n",
       "      <td>9.5</td>\n",
       "      <td>65 years or older</td>\n",
       "      <td>POINT (-120.4700108 47.52227863)</td>\n",
       "      <td>Female</td>\n",
       "      <td>--</td>\n",
       "    </tr>\n",
       "    <tr>\n",
       "      <th>186</th>\n",
       "      <td>2019</td>\n",
       "      <td>2022</td>\n",
       "      <td>WA</td>\n",
       "      <td>Cognitive Decline</td>\n",
       "      <td>Subjective cognitive decline or memory loss am...</td>\n",
       "      <td>%</td>\n",
       "      <td>9.3</td>\n",
       "      <td>65 years or older</td>\n",
       "      <td>POINT (-120.4700108 47.52227863)</td>\n",
       "      <td>Male</td>\n",
       "      <td>--</td>\n",
       "    </tr>\n",
       "    <tr>\n",
       "      <th>192</th>\n",
       "      <td>2019</td>\n",
       "      <td>2022</td>\n",
       "      <td>WA</td>\n",
       "      <td>Cognitive Decline</td>\n",
       "      <td>Need assistance with day-to-day activities bec...</td>\n",
       "      <td>%</td>\n",
       "      <td>22.1</td>\n",
       "      <td>Overall</td>\n",
       "      <td>POINT (-120.4700108 47.52227863)</td>\n",
       "      <td>Male</td>\n",
       "      <td>--</td>\n",
       "    </tr>\n",
       "    <tr>\n",
       "      <th>195</th>\n",
       "      <td>2019</td>\n",
       "      <td>2022</td>\n",
       "      <td>GA</td>\n",
       "      <td>Cognitive Decline</td>\n",
       "      <td>Talked with health care professional about sub...</td>\n",
       "      <td>%</td>\n",
       "      <td>36.5</td>\n",
       "      <td>65 years or older</td>\n",
       "      <td>POINT (-83.62758035 32.83968109)</td>\n",
       "      <td>--</td>\n",
       "      <td>Black, non-Hispanic</td>\n",
       "    </tr>\n",
       "  </tbody>\n",
       "</table>\n",
       "</div>"
      ],
      "text/plain": [
       "     YearStart  YearEnd LocationAbbr              Class  \\\n",
       "183       2019     2022           NY  Cognitive Decline   \n",
       "185       2019     2022           WA  Cognitive Decline   \n",
       "186       2019     2022           WA  Cognitive Decline   \n",
       "192       2019     2022           WA  Cognitive Decline   \n",
       "195       2019     2022           GA  Cognitive Decline   \n",
       "\n",
       "                                                 Topic Data_Value_Unit  \\\n",
       "183  Subjective cognitive decline or memory loss am...               %   \n",
       "185  Subjective cognitive decline or memory loss am...               %   \n",
       "186  Subjective cognitive decline or memory loss am...               %   \n",
       "192  Need assistance with day-to-day activities bec...               %   \n",
       "195  Talked with health care professional about sub...               %   \n",
       "\n",
       "     Data_Value(%)          Age Group                       Geolocation  \\\n",
       "183           13.8        50-64 years  POINT (-75.54397043 42.82700103)   \n",
       "185            9.5  65 years or older  POINT (-120.4700108 47.52227863)   \n",
       "186            9.3  65 years or older  POINT (-120.4700108 47.52227863)   \n",
       "192           22.1            Overall  POINT (-120.4700108 47.52227863)   \n",
       "195           36.5  65 years or older  POINT (-83.62758035 32.83968109)   \n",
       "\n",
       "     Gender       Race/Ethnicity  \n",
       "183      --             Hispanic  \n",
       "185  Female                   --  \n",
       "186    Male                   --  \n",
       "192    Male                   --  \n",
       "195      --  Black, non-Hispanic  "
      ]
     },
<<<<<<< HEAD
<<<<<<< HEAD
<<<<<<< HEAD:Project-3/starter code/Alzheimer_HealthyAgingData.ipynb
     "execution_count": 15,
=======
     "execution_count": 222,
>>>>>>> 8983b2b5fff96ebc161d4ce459d33a131b93afb5:Alzheimer_HealthyAgingData.ipynb
=======
     "execution_count": 57,
>>>>>>> parent of c51138a (updates to starter code)
=======
     "execution_count": 57,
>>>>>>> parent of c51138a (updates to starter code)
     "metadata": {},
     "output_type": "execute_result"
    }
   ],
   "source": [
    "import pandas as pd\n",
    "import numpy as np\n",
    "\n",
    "# Assuming 'filtered_Alz_Data' is already your DataFrame\n",
    "data = filtered_Alz_Data.copy()  # Make a copy to work with\n",
    "\n",
    "# Define lists of known gender and race/ethnicity values\n",
    "Gender = ['Male', 'Female']\n",
    "Race_Ethnicity = ['White, non-Hispanic', 'Black, non-Hispanic', 'Asian/Pacific Islander', 'Hispanic', 'Native Am/Alaskan Native']\n",
    "\n",
    "# Split values into Gender and Race/Ethnicity columns using conditions\n",
    "data['Gender'] = data['Gender/Race/Ethnicity'].apply(lambda x: x if x in Gender else '--')\n",
    "data['Race/Ethnicity'] = data['Gender/Race/Ethnicity'].apply(lambda x: x if x in Race_Ethnicity else '--')\n",
    "\n",
    "data = data.drop(columns=['Gender/Race/Ethnicity'])\n",
    "\n",
    "# Display the result\n",
    "data.head()\n"
   ]
  },
  {
   "cell_type": "code",
<<<<<<< HEAD
<<<<<<< HEAD
<<<<<<< HEAD:Project-3/starter code/Alzheimer_HealthyAgingData.ipynb
   "execution_count": 17,
=======
   "execution_count": 223,
   "metadata": {},
   "outputs": [
    {
     "name": "stdout",
     "output_type": "stream",
     "text": [
      "<class 'pandas.core.frame.DataFrame'>\n",
      "Index: 2854 entries, 183 to 283976\n",
      "Data columns (total 11 columns):\n",
      " #   Column           Non-Null Count  Dtype  \n",
      "---  ------           --------------  -----  \n",
      " 0   YearStart        2854 non-null   int64  \n",
      " 1   YearEnd          2854 non-null   int64  \n",
      " 2   LocationAbbr     2854 non-null   object \n",
      " 3   Class            2854 non-null   object \n",
      " 4   Topic            2854 non-null   object \n",
      " 5   Data_Value_Unit  2854 non-null   object \n",
      " 6   Data_Value(%)    2854 non-null   float64\n",
      " 7   Age Group        2854 non-null   object \n",
      " 8   Geolocation      2854 non-null   object \n",
      " 9   Gender           2854 non-null   object \n",
      " 10  Race/Ethnicity   2854 non-null   object \n",
      "dtypes: float64(1), int64(2), object(8)\n",
      "memory usage: 267.6+ KB\n"
     ]
    }
   ],
   "source": [
    "data.info()"
   ]
  },
  {
   "cell_type": "code",
   "execution_count": 224,
   "metadata": {},
   "outputs": [
    {
     "name": "stdout",
     "output_type": "stream",
     "text": [
      "/Users/sarahwhite/Documents\n"
     ]
    }
   ],
   "source": [
    "\n",
    "# Check the current working directory to ensure you are in the right place\n",
    "import os\n",
    "import sqlite3\n",
    "print(os.getcwd())\n",
    "\n",
    "# Use an absolute path or ensure the current directory is writable\n",
    "connection = sqlite3.connect('Alz.db')  # Save in the current directory\n",
    "# OR\n",
    "# connection = sqlite3.connect('/absolute/path/to/Alz.db')\n",
    "\n"
   ]
  },
  {
   "cell_type": "code",
   "execution_count": 225,
   "metadata": {},
   "outputs": [
    {
     "name": "stdout",
     "output_type": "stream",
     "text": [
      "      YearStart  YearEnd LocationAbbr              Class  \\\n",
      "0          2019     2022           NY  Cognitive Decline   \n",
      "1          2019     2022           WA  Cognitive Decline   \n",
      "2          2019     2022           WA  Cognitive Decline   \n",
      "3          2019     2022           WA  Cognitive Decline   \n",
      "4          2019     2022           GA  Cognitive Decline   \n",
      "...         ...      ...          ...                ...   \n",
      "2849       2019     2019           WI  Cognitive Decline   \n",
      "2850       2019     2019           WV  Cognitive Decline   \n",
      "2851       2019     2019           WI  Cognitive Decline   \n",
      "2852       2019     2019           WV  Cognitive Decline   \n",
      "2853       2019     2019           WV  Cognitive Decline   \n",
      "\n",
      "                                                  Topic Data_Value_Unit  \\\n",
      "0     Subjective cognitive decline or memory loss am...               %   \n",
      "1     Subjective cognitive decline or memory loss am...               %   \n",
      "2     Subjective cognitive decline or memory loss am...               %   \n",
      "3     Need assistance with day-to-day activities bec...               %   \n",
      "4     Talked with health care professional about sub...               %   \n",
      "...                                                 ...             ...   \n",
      "2849  Subjective cognitive decline or memory loss am...               %   \n",
      "2850  Talked with health care professional about sub...               %   \n",
      "2851  Need assistance with day-to-day activities bec...               %   \n",
      "2852  Need assistance with day-to-day activities bec...               %   \n",
      "2853  Functional difficulties associated with subjec...               %   \n",
      "\n",
      "      Data_Value(%)          Age Group                       Geolocation  \\\n",
      "0              13.8        50-64 years  POINT (-75.54397043 42.82700103)   \n",
      "1               9.5  65 years or older  POINT (-120.4700108 47.52227863)   \n",
      "2               9.3  65 years or older  POINT (-120.4700108 47.52227863)   \n",
      "3              22.1            Overall  POINT (-120.4700108 47.52227863)   \n",
      "4              36.5  65 years or older  POINT (-83.62758035 32.83968109)   \n",
      "...             ...                ...                               ...   \n",
      "2849            9.8        50-64 years  POINT (-89.81637074 44.39319117)   \n",
      "2850           38.9  65 years or older   POINT (-80.71264013 38.6655102)   \n",
      "2851           26.0            Overall  POINT (-89.81637074 44.39319117)   \n",
      "2852           34.5  65 years or older   POINT (-80.71264013 38.6655102)   \n",
      "2853           34.6  65 years or older   POINT (-80.71264013 38.6655102)   \n",
      "\n",
      "      Gender       Race/Ethnicity  \n",
      "0         --             Hispanic  \n",
      "1     Female                   --  \n",
      "2       Male                   --  \n",
      "3       Male                   --  \n",
      "4         --  Black, non-Hispanic  \n",
      "...      ...                  ...  \n",
      "2849  Female                   --  \n",
      "2850  Female                   --  \n",
      "2851  Female                   --  \n",
      "2852      --  White, non-Hispanic  \n",
      "2853    Male                   --  \n",
      "\n",
      "[2854 rows x 11 columns]\n"
     ]
    }
   ],
   "source": [
    "df = pd.DataFrame(data)\n",
    "\n",
    "# Path to your SQLite database file\n",
    "database_path = 'ALZ.db'\n",
    "\n",
    "Table_Name = 'Alz_Data_Table'\n",
    "\n",
    "# Create a connection to the SQLite database\n",
    "with sqlite3.connect(database_path) as connection:\n",
    "    # Load the DataFrame to a SQL table\n",
    "    df.to_sql(Table_Name, connection, if_exists='replace', index=False)\n",
    "\n",
    "# Verify that the data has been loaded\n",
    "with sqlite3.connect(database_path) as connection:\n",
    "    df_from_sql = pd.read_sql('SELECT * FROM Alz_Data_Table', connection)\n",
    "    print(df_from_sql)"
   ]
  },
  {
   "cell_type": "code",
   "execution_count": 227,
>>>>>>> 8983b2b5fff96ebc161d4ce459d33a131b93afb5:Alzheimer_HealthyAgingData.ipynb
=======
   "execution_count": 60,
>>>>>>> parent of c51138a (updates to starter code)
=======
   "execution_count": 60,
>>>>>>> parent of c51138a (updates to starter code)
   "metadata": {},
   "outputs": [
    {
     "data": {
      "text/html": [
       "<div>\n",
       "<style scoped>\n",
       "    .dataframe tbody tr th:only-of-type {\n",
       "        vertical-align: middle;\n",
       "    }\n",
       "\n",
       "    .dataframe tbody tr th {\n",
       "        vertical-align: top;\n",
       "    }\n",
       "\n",
       "    .dataframe thead th {\n",
       "        text-align: right;\n",
       "    }\n",
       "</style>\n",
       "<table border=\"1\" class=\"dataframe\">\n",
       "  <thead>\n",
       "    <tr style=\"text-align: right;\">\n",
       "      <th></th>\n",
       "      <th>Year Start</th>\n",
       "      <th>Year Start</th>\n",
       "      <th>State</th>\n",
       "      <th>Class</th>\n",
       "      <th>Topic</th>\n",
       "      <th>Data Value Unit</th>\n",
       "      <th>Data Value(%)</th>\n",
       "      <th>Age Group</th>\n",
       "      <th>Geolocation</th>\n",
       "      <th>Gender</th>\n",
       "      <th>Race and Ethnicity</th>\n",
       "    </tr>\n",
       "  </thead>\n",
       "  <tbody>\n",
       "    <tr>\n",
       "      <th>183</th>\n",
       "      <td>2019</td>\n",
       "      <td>2022</td>\n",
       "      <td>NY</td>\n",
       "      <td>Cognitive Decline</td>\n",
       "      <td>Subjective cognitive decline or memory loss am...</td>\n",
       "      <td>%</td>\n",
       "      <td>13.8</td>\n",
       "      <td>50-64 years</td>\n",
       "      <td>POINT (-75.54397043 42.82700103)</td>\n",
       "      <td>--</td>\n",
       "      <td>Hispanic</td>\n",
       "    </tr>\n",
       "    <tr>\n",
       "      <th>185</th>\n",
       "      <td>2019</td>\n",
       "      <td>2022</td>\n",
       "      <td>WA</td>\n",
       "      <td>Cognitive Decline</td>\n",
       "      <td>Subjective cognitive decline or memory loss am...</td>\n",
       "      <td>%</td>\n",
       "      <td>9.5</td>\n",
       "      <td>65 years or older</td>\n",
       "      <td>POINT (-120.4700108 47.52227863)</td>\n",
       "      <td>Female</td>\n",
       "      <td>--</td>\n",
       "    </tr>\n",
       "    <tr>\n",
       "      <th>186</th>\n",
       "      <td>2019</td>\n",
       "      <td>2022</td>\n",
       "      <td>WA</td>\n",
       "      <td>Cognitive Decline</td>\n",
       "      <td>Subjective cognitive decline or memory loss am...</td>\n",
       "      <td>%</td>\n",
       "      <td>9.3</td>\n",
       "      <td>65 years or older</td>\n",
       "      <td>POINT (-120.4700108 47.52227863)</td>\n",
       "      <td>Male</td>\n",
       "      <td>--</td>\n",
       "    </tr>\n",
       "    <tr>\n",
       "      <th>192</th>\n",
       "      <td>2019</td>\n",
       "      <td>2022</td>\n",
       "      <td>WA</td>\n",
       "      <td>Cognitive Decline</td>\n",
       "      <td>Need assistance with day-to-day activities bec...</td>\n",
       "      <td>%</td>\n",
       "      <td>22.1</td>\n",
       "      <td>Overall</td>\n",
       "      <td>POINT (-120.4700108 47.52227863)</td>\n",
       "      <td>Male</td>\n",
       "      <td>--</td>\n",
       "    </tr>\n",
       "    <tr>\n",
       "      <th>195</th>\n",
       "      <td>2019</td>\n",
       "      <td>2022</td>\n",
       "      <td>GA</td>\n",
       "      <td>Cognitive Decline</td>\n",
       "      <td>Talked with health care professional about sub...</td>\n",
       "      <td>%</td>\n",
       "      <td>36.5</td>\n",
       "      <td>65 years or older</td>\n",
       "      <td>POINT (-83.62758035 32.83968109)</td>\n",
       "      <td>--</td>\n",
       "      <td>Black, non-Hispanic</td>\n",
       "    </tr>\n",
       "  </tbody>\n",
       "</table>\n",
       "</div>"
      ],
      "text/plain": [
       "     Year Start  Year Start State              Class  \\\n",
       "183        2019        2022    NY  Cognitive Decline   \n",
       "185        2019        2022    WA  Cognitive Decline   \n",
       "186        2019        2022    WA  Cognitive Decline   \n",
       "192        2019        2022    WA  Cognitive Decline   \n",
       "195        2019        2022    GA  Cognitive Decline   \n",
       "\n",
       "                                                 Topic Data Value Unit  \\\n",
       "183  Subjective cognitive decline or memory loss am...               %   \n",
       "185  Subjective cognitive decline or memory loss am...               %   \n",
       "186  Subjective cognitive decline or memory loss am...               %   \n",
       "192  Need assistance with day-to-day activities bec...               %   \n",
       "195  Talked with health care professional about sub...               %   \n",
       "\n",
       "     Data Value(%)          Age Group                       Geolocation  \\\n",
       "183           13.8        50-64 years  POINT (-75.54397043 42.82700103)   \n",
       "185            9.5  65 years or older  POINT (-120.4700108 47.52227863)   \n",
       "186            9.3  65 years or older  POINT (-120.4700108 47.52227863)   \n",
       "192           22.1            Overall  POINT (-120.4700108 47.52227863)   \n",
       "195           36.5  65 years or older  POINT (-83.62758035 32.83968109)   \n",
       "\n",
       "     Gender   Race and Ethnicity  \n",
       "183      --             Hispanic  \n",
       "185  Female                   --  \n",
       "186    Male                   --  \n",
       "192    Male                   --  \n",
       "195      --  Black, non-Hispanic  "
      ]
     },
<<<<<<< HEAD
<<<<<<< HEAD
<<<<<<< HEAD:Project-3/starter code/Alzheimer_HealthyAgingData.ipynb
     "execution_count": 17,
=======
     "execution_count": 227,
>>>>>>> 8983b2b5fff96ebc161d4ce459d33a131b93afb5:Alzheimer_HealthyAgingData.ipynb
=======
     "execution_count": 60,
>>>>>>> parent of c51138a (updates to starter code)
=======
     "execution_count": 60,
>>>>>>> parent of c51138a (updates to starter code)
     "metadata": {},
     "output_type": "execute_result"
    }
   ],
   "source": [
    "data = data.rename(columns={'YearStart': 'Year Start','YearEnd': 'Year Start','LocationAbbr': 'State', 'Data_Value_Unit': 'Data Value Unit', 'Data_Value(%)': 'Data Value(%)', 'Race/Ethnicity': 'Race and Ethnicity'})\n",
    "data.head()"
   ]
  },
  {
   "cell_type": "code",
   "execution_count": 61,
   "metadata": {},
   "outputs": [],
   "source": [
    "data.to_csv('cleaned_data.csv', index=False)"
   ]
  }
 ],
 "metadata": {
  "kernelspec": {
   "display_name": "dev",
   "language": "python",
   "name": "python3"
  },
  "language_info": {
   "codemirror_mode": {
    "name": "ipython",
    "version": 3
   },
   "file_extension": ".py",
   "mimetype": "text/x-python",
   "name": "python",
   "nbconvert_exporter": "python",
   "pygments_lexer": "ipython3",
   "version": "3.10.14"
  }
 },
 "nbformat": 4,
 "nbformat_minor": 2
}
